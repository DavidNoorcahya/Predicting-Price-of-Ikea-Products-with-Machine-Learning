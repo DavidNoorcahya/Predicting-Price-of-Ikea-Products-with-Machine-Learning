{
  "nbformat": 4,
  "nbformat_minor": 0,
  "metadata": {
    "colab": {
      "name": "Predicting Price of Ikea Products.ipynb",
      "provenance": [],
      "collapsed_sections": [
        "AWukbidkiHrF",
        "AG9wpozKMAQy",
        "b8DJPizTw8_K",
        "lHB0fbDppTxd",
        "IjPjuOUtkZqe",
        "5vXKxRp8lerN",
        "P5If8jmFozCx",
        "zDbnVVefvJ4j",
        "4FAqKVdFDQRH",
        "14rhlKu0psql",
        "nXhNvlQKp0cP",
        "3ApJq9mXxwPQ",
        "ij1BFo5MRbDh",
        "fHa_VPXnkZp3",
        "02FBRgX8yxk7",
        "9aQ65Qzl24_w",
        "2wacHVSmZkXc"
      ]
    },
    "kernelspec": {
      "display_name": "Python 3",
      "name": "python3"
    },
    "language_info": {
      "name": "python"
    }
  },
  "cells": [
    {
      "cell_type": "markdown",
      "metadata": {
        "id": "6ZaQpo0Qdzgm"
      },
      "source": [
        "***Predicting Price of Ikea Products with Machine Learning***\n",
        "\n",
        "*By David Noorcahya*\n"
      ]
    },
    {
      "cell_type": "markdown",
      "metadata": {
        "id": "AWukbidkiHrF"
      },
      "source": [
        "#Data Understanding"
      ]
    },
    {
      "cell_type": "markdown",
      "metadata": {
        "id": "bduq7HNSfw-e"
      },
      "source": [
        "Notebook ini merupakan praktek teknik web scraping yang telah diterapkan di website IKEA Arab Saudi untuk kategori furniture.\n",
        "\n",
        "Tautan Kaggle: https://www.kaggle.com/ahmedkallam/ikea-sa-furniture-web-scraping\n",
        "\n",
        "Tautan situs web yang dilakukan scraping: https://www.ikea.com/sa/en/cat/furniture-fu001/\n",
        "\n",
        "Data yang diminta hingga 20/4/2020.\n",
        "Library yang digunakan adalah BeautifulSoup dan Selenium untuk web scraping\n",
        "\n",
        "***Content:***\n",
        "\n",
        "Unnamed: Merupakan nomor urutan dari data\n",
        "\n",
        "item_id : id item yang dapat digunakan nanti untuk bergabung dengan kerangka data IKEA lainnya\n",
        "\n",
        "name: nama komersial barang\n",
        "\n",
        "catgory: kategori furnitur tempat barang itu berada\n",
        "\n",
        "price: harga saat ini dalam mata uang Saudi Arabia seperti yang ditampilkan di situs web\n",
        "\n",
        "old_price: harga barang sebelum diskon\n",
        "\n",
        "Short_description: deskripsi singkat tentang item\n",
        "\n",
        "designer: Nama desainer yang mendesain item.\n",
        "\n",
        "width: Lebar item dalam Centimeter\n",
        "\n",
        "height: Tinggi item dalam Centimeter\n",
        "\n",
        "depth: Kedalaman item dalam Centimeter\n",
        "\n",
        "sellable_Online: jika item tersedia untuk pembelian online atau hanya di toko\n",
        "\n",
        "other_colors: jika warna lain tersedia untuk item tersebut, atau hanya satu warna seperti yang ditampilkan di situs web\n",
        "\n",
        "link: tautan web item\n",
        "\n"
      ]
    },
    {
      "cell_type": "markdown",
      "metadata": {
        "id": "AG9wpozKMAQy"
      },
      "source": [
        "#Import Dataset"
      ]
    },
    {
      "cell_type": "code",
      "metadata": {
        "colab": {
          "base_uri": "https://localhost:8080/"
        },
        "id": "7Qg4PR2YrGPD",
        "outputId": "99250753-cffd-4259-9110-8ed5dd0042f5"
      },
      "source": [
        "from google.colab import drive\n",
        "drive.mount('/content/gdrive')"
      ],
      "execution_count": null,
      "outputs": [
        {
          "output_type": "stream",
          "name": "stdout",
          "text": [
            "Drive already mounted at /content/gdrive; to attempt to forcibly remount, call drive.mount(\"/content/gdrive\", force_remount=True).\n"
          ]
        }
      ]
    },
    {
      "cell_type": "code",
      "metadata": {
        "colab": {
          "base_uri": "https://localhost:8080/"
        },
        "id": "gU0mVi1HuNuQ",
        "outputId": "1b40b465-f3e5-4161-deb0-d8a827f97ae9"
      },
      "source": [
        "%cd /content/gdrive/MyDrive/Colab Notebooks/"
      ],
      "execution_count": null,
      "outputs": [
        {
          "output_type": "stream",
          "name": "stdout",
          "text": [
            "/content/gdrive/MyDrive/Colab Notebooks\n"
          ]
        }
      ]
    },
    {
      "cell_type": "code",
      "metadata": {
        "id": "0Xo46Km3uR8c"
      },
      "source": [
        "import pandas as pd\n",
        "import numpy as np\n",
        "import matplotlib.pyplot as plt\n",
        "import seaborn as sns\n",
        "sns.set()"
      ],
      "execution_count": null,
      "outputs": []
    },
    {
      "cell_type": "code",
      "metadata": {
        "id": "ThDrCcU7uSY4"
      },
      "source": [
        "df = pd.read_csv('IKEA_SA_Furniture_Web_Scrapings_sss.csv')"
      ],
      "execution_count": null,
      "outputs": []
    },
    {
      "cell_type": "markdown",
      "metadata": {
        "id": "b8DJPizTw8_K"
      },
      "source": [
        "#Exploratory Data Analysis"
      ]
    },
    {
      "cell_type": "markdown",
      "metadata": {
        "id": "lHB0fbDppTxd"
      },
      "source": [
        "##Initial EDA"
      ]
    },
    {
      "cell_type": "code",
      "metadata": {
        "colab": {
          "base_uri": "https://localhost:8080/",
          "height": 365
        },
        "id": "kYN6adbfw_hv",
        "outputId": "28e18ebf-0bac-4082-8ee6-36852123b960"
      },
      "source": [
        "df.head(5)"
      ],
      "execution_count": null,
      "outputs": [
        {
          "output_type": "execute_result",
          "data": {
            "text/html": [
              "<div>\n",
              "<style scoped>\n",
              "    .dataframe tbody tr th:only-of-type {\n",
              "        vertical-align: middle;\n",
              "    }\n",
              "\n",
              "    .dataframe tbody tr th {\n",
              "        vertical-align: top;\n",
              "    }\n",
              "\n",
              "    .dataframe thead th {\n",
              "        text-align: right;\n",
              "    }\n",
              "</style>\n",
              "<table border=\"1\" class=\"dataframe\">\n",
              "  <thead>\n",
              "    <tr style=\"text-align: right;\">\n",
              "      <th></th>\n",
              "      <th>Unnamed: 0</th>\n",
              "      <th>item_id</th>\n",
              "      <th>name</th>\n",
              "      <th>category</th>\n",
              "      <th>price</th>\n",
              "      <th>old_price</th>\n",
              "      <th>sellable_online</th>\n",
              "      <th>link</th>\n",
              "      <th>other_colors</th>\n",
              "      <th>short_description</th>\n",
              "      <th>designer</th>\n",
              "      <th>depth</th>\n",
              "      <th>height</th>\n",
              "      <th>width</th>\n",
              "    </tr>\n",
              "  </thead>\n",
              "  <tbody>\n",
              "    <tr>\n",
              "      <th>0</th>\n",
              "      <td>0</td>\n",
              "      <td>90420332</td>\n",
              "      <td>FREKVENS</td>\n",
              "      <td>Bar furniture</td>\n",
              "      <td>265.0</td>\n",
              "      <td>No old price</td>\n",
              "      <td>True</td>\n",
              "      <td>https://www.ikea.com/sa/en/p/frekvens-bar-tabl...</td>\n",
              "      <td>No</td>\n",
              "      <td>Bar table, in/outdoor,          51x51 cm</td>\n",
              "      <td>Nicholai Wiig Hansen</td>\n",
              "      <td>NaN</td>\n",
              "      <td>99.0</td>\n",
              "      <td>51.0</td>\n",
              "    </tr>\n",
              "    <tr>\n",
              "      <th>1</th>\n",
              "      <td>1</td>\n",
              "      <td>368814</td>\n",
              "      <td>NORDVIKEN</td>\n",
              "      <td>Bar furniture</td>\n",
              "      <td>995.0</td>\n",
              "      <td>No old price</td>\n",
              "      <td>False</td>\n",
              "      <td>https://www.ikea.com/sa/en/p/nordviken-bar-tab...</td>\n",
              "      <td>No</td>\n",
              "      <td>Bar table,          140x80 cm</td>\n",
              "      <td>Francis Cayouette</td>\n",
              "      <td>NaN</td>\n",
              "      <td>105.0</td>\n",
              "      <td>80.0</td>\n",
              "    </tr>\n",
              "    <tr>\n",
              "      <th>2</th>\n",
              "      <td>2</td>\n",
              "      <td>9333523</td>\n",
              "      <td>NORDVIKEN / NORDVIKEN</td>\n",
              "      <td>Bar furniture</td>\n",
              "      <td>2095.0</td>\n",
              "      <td>No old price</td>\n",
              "      <td>False</td>\n",
              "      <td>https://www.ikea.com/sa/en/p/nordviken-nordvik...</td>\n",
              "      <td>No</td>\n",
              "      <td>Bar table and 4 bar stools</td>\n",
              "      <td>Francis Cayouette</td>\n",
              "      <td>NaN</td>\n",
              "      <td>NaN</td>\n",
              "      <td>NaN</td>\n",
              "    </tr>\n",
              "    <tr>\n",
              "      <th>3</th>\n",
              "      <td>3</td>\n",
              "      <td>80155205</td>\n",
              "      <td>STIG</td>\n",
              "      <td>Bar furniture</td>\n",
              "      <td>69.0</td>\n",
              "      <td>No old price</td>\n",
              "      <td>True</td>\n",
              "      <td>https://www.ikea.com/sa/en/p/stig-bar-stool-wi...</td>\n",
              "      <td>Yes</td>\n",
              "      <td>Bar stool with backrest,          74 cm</td>\n",
              "      <td>Henrik Preutz</td>\n",
              "      <td>50.0</td>\n",
              "      <td>100.0</td>\n",
              "      <td>60.0</td>\n",
              "    </tr>\n",
              "    <tr>\n",
              "      <th>4</th>\n",
              "      <td>4</td>\n",
              "      <td>30180504</td>\n",
              "      <td>NORBERG</td>\n",
              "      <td>Bar furniture</td>\n",
              "      <td>225.0</td>\n",
              "      <td>No old price</td>\n",
              "      <td>True</td>\n",
              "      <td>https://www.ikea.com/sa/en/p/norberg-wall-moun...</td>\n",
              "      <td>No</td>\n",
              "      <td>Wall-mounted drop-leaf table,         ...</td>\n",
              "      <td>Marcus Arvonen</td>\n",
              "      <td>60.0</td>\n",
              "      <td>43.0</td>\n",
              "      <td>74.0</td>\n",
              "    </tr>\n",
              "  </tbody>\n",
              "</table>\n",
              "</div>"
            ],
            "text/plain": [
              "   Unnamed: 0   item_id                   name  ... depth  height width\n",
              "0           0  90420332               FREKVENS  ...   NaN    99.0  51.0\n",
              "1           1    368814              NORDVIKEN  ...   NaN   105.0  80.0\n",
              "2           2   9333523  NORDVIKEN / NORDVIKEN  ...   NaN     NaN   NaN\n",
              "3           3  80155205                   STIG  ...  50.0   100.0  60.0\n",
              "4           4  30180504                NORBERG  ...  60.0    43.0  74.0\n",
              "\n",
              "[5 rows x 14 columns]"
            ]
          },
          "metadata": {},
          "execution_count": 55
        }
      ]
    },
    {
      "cell_type": "code",
      "metadata": {
        "colab": {
          "base_uri": "https://localhost:8080/",
          "height": 417
        },
        "id": "k0-aMOmMxFcF",
        "outputId": "fde3d09e-4630-473b-c664-795bec9e0ab8"
      },
      "source": [
        "df.sample(5)"
      ],
      "execution_count": null,
      "outputs": [
        {
          "output_type": "execute_result",
          "data": {
            "text/html": [
              "<div>\n",
              "<style scoped>\n",
              "    .dataframe tbody tr th:only-of-type {\n",
              "        vertical-align: middle;\n",
              "    }\n",
              "\n",
              "    .dataframe tbody tr th {\n",
              "        vertical-align: top;\n",
              "    }\n",
              "\n",
              "    .dataframe thead th {\n",
              "        text-align: right;\n",
              "    }\n",
              "</style>\n",
              "<table border=\"1\" class=\"dataframe\">\n",
              "  <thead>\n",
              "    <tr style=\"text-align: right;\">\n",
              "      <th></th>\n",
              "      <th>Unnamed: 0</th>\n",
              "      <th>item_id</th>\n",
              "      <th>name</th>\n",
              "      <th>category</th>\n",
              "      <th>price</th>\n",
              "      <th>old_price</th>\n",
              "      <th>sellable_online</th>\n",
              "      <th>link</th>\n",
              "      <th>other_colors</th>\n",
              "      <th>short_description</th>\n",
              "      <th>designer</th>\n",
              "      <th>depth</th>\n",
              "      <th>height</th>\n",
              "      <th>width</th>\n",
              "    </tr>\n",
              "  </thead>\n",
              "  <tbody>\n",
              "    <tr>\n",
              "      <th>457</th>\n",
              "      <td>457</td>\n",
              "      <td>49301921</td>\n",
              "      <td>BESTÅ</td>\n",
              "      <td>Bookcases &amp; shelving units</td>\n",
              "      <td>1155.0</td>\n",
              "      <td>No old price</td>\n",
              "      <td>True</td>\n",
              "      <td>https://www.ikea.com/sa/en/p/besta-storage-com...</td>\n",
              "      <td>Yes</td>\n",
              "      <td>Storage combination w glass doors,    ...</td>\n",
              "      <td>Carl Öjerstam/IKEA of Sweden</td>\n",
              "      <td>22.0</td>\n",
              "      <td>202.0</td>\n",
              "      <td>60.0</td>\n",
              "    </tr>\n",
              "    <tr>\n",
              "      <th>963</th>\n",
              "      <td>963</td>\n",
              "      <td>60347507</td>\n",
              "      <td>ENERYDA</td>\n",
              "      <td>Cabinets &amp; cupboards</td>\n",
              "      <td>35.0</td>\n",
              "      <td>No old price</td>\n",
              "      <td>True</td>\n",
              "      <td>https://www.ikea.com/sa/en/p/eneryda-knob-bras...</td>\n",
              "      <td>Yes</td>\n",
              "      <td>Knob,          35 mm</td>\n",
              "      <td>Francis Cayouette</td>\n",
              "      <td>NaN</td>\n",
              "      <td>NaN</td>\n",
              "      <td>NaN</td>\n",
              "    </tr>\n",
              "    <tr>\n",
              "      <th>424</th>\n",
              "      <td>424</td>\n",
              "      <td>87749600</td>\n",
              "      <td>OBSERVATÖR</td>\n",
              "      <td>Bookcases &amp; shelving units</td>\n",
              "      <td>5.0</td>\n",
              "      <td>No old price</td>\n",
              "      <td>True</td>\n",
              "      <td>https://www.ikea.com/sa/en/p/observatoer-cross...</td>\n",
              "      <td>No</td>\n",
              "      <td>Cross-brace,          100 cm</td>\n",
              "      <td>IKEA of Sweden</td>\n",
              "      <td>NaN</td>\n",
              "      <td>NaN</td>\n",
              "      <td>NaN</td>\n",
              "    </tr>\n",
              "    <tr>\n",
              "      <th>3112</th>\n",
              "      <td>3112</td>\n",
              "      <td>59287929</td>\n",
              "      <td>BEKANT</td>\n",
              "      <td>Tables &amp; desks</td>\n",
              "      <td>3064.0</td>\n",
              "      <td>SR 3,690</td>\n",
              "      <td>True</td>\n",
              "      <td>https://www.ikea.com/sa/en/p/bekant-desk-with-...</td>\n",
              "      <td>Yes</td>\n",
              "      <td>Desk with screen,          160x160 55 cm</td>\n",
              "      <td>K Malmvall/E Lilja Löwenhielm</td>\n",
              "      <td>NaN</td>\n",
              "      <td>NaN</td>\n",
              "      <td>160.0</td>\n",
              "    </tr>\n",
              "    <tr>\n",
              "      <th>1621</th>\n",
              "      <td>1621</td>\n",
              "      <td>30309234</td>\n",
              "      <td>KULLEN</td>\n",
              "      <td>Chests of drawers &amp; drawer units</td>\n",
              "      <td>199.0</td>\n",
              "      <td>No old price</td>\n",
              "      <td>True</td>\n",
              "      <td>https://www.ikea.com/sa/en/p/kullen-chest-of-3...</td>\n",
              "      <td>No</td>\n",
              "      <td>Chest of 3 drawers,          70x72 cm</td>\n",
              "      <td>IKEA of Sweden</td>\n",
              "      <td>40.0</td>\n",
              "      <td>72.0</td>\n",
              "      <td>70.0</td>\n",
              "    </tr>\n",
              "  </tbody>\n",
              "</table>\n",
              "</div>"
            ],
            "text/plain": [
              "      Unnamed: 0   item_id        name  ... depth  height  width\n",
              "457          457  49301921       BESTÅ  ...  22.0   202.0   60.0\n",
              "963          963  60347507     ENERYDA  ...   NaN     NaN    NaN\n",
              "424          424  87749600  OBSERVATÖR  ...   NaN     NaN    NaN\n",
              "3112        3112  59287929      BEKANT  ...   NaN     NaN  160.0\n",
              "1621        1621  30309234      KULLEN  ...  40.0    72.0   70.0\n",
              "\n",
              "[5 rows x 14 columns]"
            ]
          },
          "metadata": {},
          "execution_count": 56
        }
      ]
    },
    {
      "cell_type": "code",
      "metadata": {
        "colab": {
          "base_uri": "https://localhost:8080/"
        },
        "id": "7n3lT9SlxJf9",
        "outputId": "f46eb7dd-1b23-4073-c26e-b9a47faaa6f1"
      },
      "source": [
        "df.info()"
      ],
      "execution_count": null,
      "outputs": [
        {
          "output_type": "stream",
          "name": "stdout",
          "text": [
            "<class 'pandas.core.frame.DataFrame'>\n",
            "RangeIndex: 3694 entries, 0 to 3693\n",
            "Data columns (total 14 columns):\n",
            " #   Column             Non-Null Count  Dtype  \n",
            "---  ------             --------------  -----  \n",
            " 0   Unnamed: 0         3694 non-null   int64  \n",
            " 1   item_id            3694 non-null   int64  \n",
            " 2   name               3694 non-null   object \n",
            " 3   category           3694 non-null   object \n",
            " 4   price              3694 non-null   float64\n",
            " 5   old_price          3694 non-null   object \n",
            " 6   sellable_online    3694 non-null   bool   \n",
            " 7   link               3694 non-null   object \n",
            " 8   other_colors       3694 non-null   object \n",
            " 9   short_description  3694 non-null   object \n",
            " 10  designer           3694 non-null   object \n",
            " 11  depth              2231 non-null   float64\n",
            " 12  height             2706 non-null   float64\n",
            " 13  width              3105 non-null   float64\n",
            "dtypes: bool(1), float64(4), int64(2), object(7)\n",
            "memory usage: 378.9+ KB\n"
          ]
        }
      ]
    },
    {
      "cell_type": "markdown",
      "metadata": {
        "id": "dbvt8h3-xOyG"
      },
      "source": [
        "Terdapat beberapa data yang masih berbentuk object, maka harus diubah menjadi bentuk numeric agar bisa digunakan pada proses selanjutnya."
      ]
    },
    {
      "cell_type": "markdown",
      "metadata": {
        "id": "IjPjuOUtkZqe"
      },
      "source": [
        "##Numerical data distribution"
      ]
    },
    {
      "cell_type": "code",
      "metadata": {
        "colab": {
          "base_uri": "https://localhost:8080/",
          "height": 382
        },
        "id": "W1BWyRdbkFcd",
        "outputId": "e9c206a9-bcbd-454c-bb68-1d7f71f0eeef"
      },
      "source": [
        "# check the distribution of 'price' column\n",
        "sns.displot(df['price'])"
      ],
      "execution_count": null,
      "outputs": [
        {
          "output_type": "execute_result",
          "data": {
            "text/plain": [
              "<seaborn.axisgrid.FacetGrid at 0x7fa014562750>"
            ]
          },
          "metadata": {},
          "execution_count": 58
        },
        {
          "output_type": "display_data",
          "data": {
            "image/png": "[encoded data removed]",
            "text/plain": [
              "<Figure size 360x360 with 1 Axes>"
            ]
          },
          "metadata": {}
        }
      ]
    },
    {
      "cell_type": "code",
      "metadata": {
        "colab": {
          "base_uri": "https://localhost:8080/",
          "height": 382
        },
        "id": "-RM759JqkiRJ",
        "outputId": "18b5f6f0-b20c-48be-fcda-6305ed10d707"
      },
      "source": [
        "# check the distribution of 'depth' column\n",
        "sns.displot(df['depth'])"
      ],
      "execution_count": null,
      "outputs": [
        {
          "output_type": "execute_result",
          "data": {
            "text/plain": [
              "<seaborn.axisgrid.FacetGrid at 0x7fa012b65ad0>"
            ]
          },
          "metadata": {},
          "execution_count": 59
        },
        {
          "output_type": "display_data",
          "data": {
            "image/png": "[encoded data removed]",
            "text/plain": [
              "<Figure size 360x360 with 1 Axes>"
            ]
          },
          "metadata": {}
        }
      ]
    },
    {
      "cell_type": "code",
      "metadata": {
        "colab": {
          "base_uri": "https://localhost:8080/",
          "height": 382
        },
        "id": "LI00-qcAkuld",
        "outputId": "f24d080f-9d42-4c4c-a4e4-d460264a30b6"
      },
      "source": [
        "# check the distribution of 'height' column\n",
        "sns.displot(df['height'])"
      ],
      "execution_count": null,
      "outputs": [
        {
          "output_type": "execute_result",
          "data": {
            "text/plain": [
              "<seaborn.axisgrid.FacetGrid at 0x7fa01292bed0>"
            ]
          },
          "metadata": {},
          "execution_count": 60
        },
        {
          "output_type": "display_data",
          "data": {
            "image/png": "[encoded data removed]",
            "text/plain": [
              "<Figure size 360x360 with 1 Axes>"
            ]
          },
          "metadata": {}
        }
      ]
    },
    {
      "cell_type": "code",
      "metadata": {
        "colab": {
          "base_uri": "https://localhost:8080/",
          "height": 382
        },
        "id": "yxAzxIMjkxf7",
        "outputId": "52419c42-bd61-4fbc-81a8-2a8f77dabd04"
      },
      "source": [
        "# check the distribution of 'width' column\n",
        "sns.displot(df['width'])"
      ],
      "execution_count": null,
      "outputs": [
        {
          "output_type": "execute_result",
          "data": {
            "text/plain": [
              "<seaborn.axisgrid.FacetGrid at 0x7fa012893ad0>"
            ]
          },
          "metadata": {},
          "execution_count": 61
        },
        {
          "output_type": "display_data",
          "data": {
            "image/png": "[encoded data removed]",
            "text/plain": [
              "<Figure size 360x360 with 1 Axes>"
            ]
          },
          "metadata": {}
        }
      ]
    },
    {
      "cell_type": "markdown",
      "metadata": {
        "id": "5vXKxRp8lerN"
      },
      "source": [
        "##Categorical data count"
      ]
    },
    {
      "cell_type": "code",
      "metadata": {
        "colab": {
          "base_uri": "https://localhost:8080/",
          "height": 477
        },
        "id": "8MdvfPjElZ0q",
        "outputId": "6eff8b7c-2cca-48a1-9212-bf1d90b05848"
      },
      "source": [
        "#Data count category\n",
        "df['category'].value_counts().plot(kind='bar')\n",
        "plt.title(\"category\")\n",
        "plt.show()"
      ],
      "execution_count": null,
      "outputs": [
        {
          "output_type": "display_data",
          "data": {
            "image/png": "[encoded data removed]",
            "text/plain": [
              "<Figure size 432x288 with 1 Axes>"
            ]
          },
          "metadata": {}
        }
      ]
    },
    {
      "cell_type": "code",
      "metadata": {
        "colab": {
          "base_uri": "https://localhost:8080/",
          "height": 302
        },
        "id": "8d_RMR34l-Zz",
        "outputId": "0ff88800-2748-4af2-93c0-c9dbd4e7bdc8"
      },
      "source": [
        "#Data count sellable online\n",
        "df['sellable_online'].value_counts().plot(kind='bar')\n",
        "plt.title(\"sellable_online\")\n",
        "plt.show()"
      ],
      "execution_count": null,
      "outputs": [
        {
          "output_type": "display_data",
          "data": {
            "image/png": "[encoded data removed]",
            "text/plain": [
              "<Figure size 432x288 with 1 Axes>"
            ]
          },
          "metadata": {}
        }
      ]
    },
    {
      "cell_type": "code",
      "metadata": {
        "colab": {
          "base_uri": "https://localhost:8080/"
        },
        "id": "izuGf_IWnjDk",
        "outputId": "85dc6b09-f5a8-4615-d8e3-3c6fd1a0d0a8"
      },
      "source": [
        "len(df[(df['sellable_online']==True)])"
      ],
      "execution_count": null,
      "outputs": [
        {
          "output_type": "execute_result",
          "data": {
            "text/plain": [
              "3666"
            ]
          },
          "metadata": {},
          "execution_count": 64
        }
      ]
    },
    {
      "cell_type": "code",
      "metadata": {
        "colab": {
          "base_uri": "https://localhost:8080/"
        },
        "id": "RmNRJ1EEnlhE",
        "outputId": "af16230e-3b60-4376-d4fb-d7bf97e8e9bd"
      },
      "source": [
        "len(df[(df['sellable_online']==False)])"
      ],
      "execution_count": null,
      "outputs": [
        {
          "output_type": "execute_result",
          "data": {
            "text/plain": [
              "28"
            ]
          },
          "metadata": {},
          "execution_count": 65
        }
      ]
    },
    {
      "cell_type": "code",
      "metadata": {
        "colab": {
          "base_uri": "https://localhost:8080/",
          "height": 292
        },
        "id": "1CEIaztMmZa-",
        "outputId": "a03e0084-965a-4886-ada1-32d31db88f76"
      },
      "source": [
        "#Data count other colors\n",
        "df['other_colors'].value_counts().plot(kind='bar')\n",
        "plt.title(\"other_colors\")\n",
        "plt.show()"
      ],
      "execution_count": null,
      "outputs": [
        {
          "output_type": "display_data",
          "data": {
            "image/png": "[encoded data removed]",
            "text/plain": [
              "<Figure size 432x288 with 1 Axes>"
            ]
          },
          "metadata": {}
        }
      ]
    },
    {
      "cell_type": "code",
      "metadata": {
        "colab": {
          "base_uri": "https://localhost:8080/"
        },
        "id": "GuXSUTdcnncJ",
        "outputId": "147a6419-56a5-46a5-bb80-663ab2f11ca2"
      },
      "source": [
        "len(df[(df['other_colors']==\"Yes\")])"
      ],
      "execution_count": null,
      "outputs": [
        {
          "output_type": "execute_result",
          "data": {
            "text/plain": [
              "1512"
            ]
          },
          "metadata": {},
          "execution_count": 67
        }
      ]
    },
    {
      "cell_type": "code",
      "metadata": {
        "colab": {
          "base_uri": "https://localhost:8080/"
        },
        "id": "WqXi71Yunrpu",
        "outputId": "13e6ef47-d99a-4d2a-f2f7-281f8f417457"
      },
      "source": [
        "len(df[(df['other_colors']==\"No\")])"
      ],
      "execution_count": null,
      "outputs": [
        {
          "output_type": "execute_result",
          "data": {
            "text/plain": [
              "2182"
            ]
          },
          "metadata": {},
          "execution_count": 68
        }
      ]
    },
    {
      "cell_type": "markdown",
      "metadata": {
        "id": "P5If8jmFozCx"
      },
      "source": [
        "##Outlier Analysis"
      ]
    },
    {
      "cell_type": "code",
      "metadata": {
        "colab": {
          "base_uri": "https://localhost:8080/",
          "height": 501
        },
        "id": "KEtcTMwyo1sZ",
        "outputId": "e190f56b-868f-4d75-dcf6-1fe5e240b3d1"
      },
      "source": [
        "#Outlier Analysis\n",
        "df['price'].plot(kind='box',figsize=(10,8))\n",
        "plt.title(\"Price Boxplot\")\n",
        "plt.show()"
      ],
      "execution_count": null,
      "outputs": [
        {
          "output_type": "display_data",
          "data": {
            "image/png": "[encoded data removed]",
            "text/plain": [
              "<Figure size 720x576 with 1 Axes>"
            ]
          },
          "metadata": {}
        }
      ]
    },
    {
      "cell_type": "code",
      "metadata": {
        "colab": {
          "base_uri": "https://localhost:8080/",
          "height": 501
        },
        "id": "DOZX1-rlo54G",
        "outputId": "d51a5e84-34c7-4d92-ef0d-de0775a6dd52"
      },
      "source": [
        "#Outlier Analysis\n",
        "df['depth'].plot(kind='box',figsize=(10,8))\n",
        "plt.title(\"Depth Boxplot\")\n",
        "plt.show()"
      ],
      "execution_count": null,
      "outputs": [
        {
          "output_type": "display_data",
          "data": {
            "image/png": "[encoded data removed]",
            "text/plain": [
              "<Figure size 720x576 with 1 Axes>"
            ]
          },
          "metadata": {}
        }
      ]
    },
    {
      "cell_type": "code",
      "metadata": {
        "colab": {
          "base_uri": "https://localhost:8080/",
          "height": 501
        },
        "id": "VLqlQwvNo6Sy",
        "outputId": "85f2872d-a173-4b8d-eb58-f2c7b023e5d8"
      },
      "source": [
        "#Outlier Analysis\n",
        "df['height'].plot(kind='box',figsize=(10,8))\n",
        "plt.title(\"Height Boxplot\")\n",
        "plt.show()"
      ],
      "execution_count": null,
      "outputs": [
        {
          "output_type": "display_data",
          "data": {
            "image/png": "[encoded data removed]",
            "text/plain": [
              "<Figure size 720x576 with 1 Axes>"
            ]
          },
          "metadata": {}
        }
      ]
    },
    {
      "cell_type": "code",
      "metadata": {
        "colab": {
          "base_uri": "https://localhost:8080/",
          "height": 501
        },
        "id": "Y5izWOhCo8T7",
        "outputId": "ced5092b-5d4e-481e-8ec6-c67e220d9017"
      },
      "source": [
        "#Outlier Analysis\n",
        "df['width'].plot(kind='box',figsize=(10,8))\n",
        "plt.title(\"Width Boxplot\")\n",
        "plt.show()"
      ],
      "execution_count": null,
      "outputs": [
        {
          "output_type": "display_data",
          "data": {
            "image/png": "[encoded data removed]",
            "text/plain": [
              "<Figure size 720x576 with 1 Axes>"
            ]
          },
          "metadata": {}
        }
      ]
    },
    {
      "cell_type": "markdown",
      "metadata": {
        "id": "zDbnVVefvJ4j"
      },
      "source": [
        "#Cleaning data"
      ]
    },
    {
      "cell_type": "code",
      "metadata": {
        "colab": {
          "base_uri": "https://localhost:8080/",
          "height": 365
        },
        "id": "UfNFgQtcvLwX",
        "outputId": "73958388-66ed-4bbf-ffbb-af4a72e90b02"
      },
      "source": [
        "df.head(5)"
      ],
      "execution_count": null,
      "outputs": [
        {
          "output_type": "execute_result",
          "data": {
            "text/html": [
              "<div>\n",
              "<style scoped>\n",
              "    .dataframe tbody tr th:only-of-type {\n",
              "        vertical-align: middle;\n",
              "    }\n",
              "\n",
              "    .dataframe tbody tr th {\n",
              "        vertical-align: top;\n",
              "    }\n",
              "\n",
              "    .dataframe thead th {\n",
              "        text-align: right;\n",
              "    }\n",
              "</style>\n",
              "<table border=\"1\" class=\"dataframe\">\n",
              "  <thead>\n",
              "    <tr style=\"text-align: right;\">\n",
              "      <th></th>\n",
              "      <th>Unnamed: 0</th>\n",
              "      <th>item_id</th>\n",
              "      <th>name</th>\n",
              "      <th>category</th>\n",
              "      <th>price</th>\n",
              "      <th>old_price</th>\n",
              "      <th>sellable_online</th>\n",
              "      <th>link</th>\n",
              "      <th>other_colors</th>\n",
              "      <th>short_description</th>\n",
              "      <th>designer</th>\n",
              "      <th>depth</th>\n",
              "      <th>height</th>\n",
              "      <th>width</th>\n",
              "    </tr>\n",
              "  </thead>\n",
              "  <tbody>\n",
              "    <tr>\n",
              "      <th>0</th>\n",
              "      <td>0</td>\n",
              "      <td>90420332</td>\n",
              "      <td>FREKVENS</td>\n",
              "      <td>Bar furniture</td>\n",
              "      <td>265.0</td>\n",
              "      <td>No old price</td>\n",
              "      <td>True</td>\n",
              "      <td>https://www.ikea.com/sa/en/p/frekvens-bar-tabl...</td>\n",
              "      <td>No</td>\n",
              "      <td>Bar table, in/outdoor,          51x51 cm</td>\n",
              "      <td>Nicholai Wiig Hansen</td>\n",
              "      <td>NaN</td>\n",
              "      <td>99.0</td>\n",
              "      <td>51.0</td>\n",
              "    </tr>\n",
              "    <tr>\n",
              "      <th>1</th>\n",
              "      <td>1</td>\n",
              "      <td>368814</td>\n",
              "      <td>NORDVIKEN</td>\n",
              "      <td>Bar furniture</td>\n",
              "      <td>995.0</td>\n",
              "      <td>No old price</td>\n",
              "      <td>False</td>\n",
              "      <td>https://www.ikea.com/sa/en/p/nordviken-bar-tab...</td>\n",
              "      <td>No</td>\n",
              "      <td>Bar table,          140x80 cm</td>\n",
              "      <td>Francis Cayouette</td>\n",
              "      <td>NaN</td>\n",
              "      <td>105.0</td>\n",
              "      <td>80.0</td>\n",
              "    </tr>\n",
              "    <tr>\n",
              "      <th>2</th>\n",
              "      <td>2</td>\n",
              "      <td>9333523</td>\n",
              "      <td>NORDVIKEN / NORDVIKEN</td>\n",
              "      <td>Bar furniture</td>\n",
              "      <td>2095.0</td>\n",
              "      <td>No old price</td>\n",
              "      <td>False</td>\n",
              "      <td>https://www.ikea.com/sa/en/p/nordviken-nordvik...</td>\n",
              "      <td>No</td>\n",
              "      <td>Bar table and 4 bar stools</td>\n",
              "      <td>Francis Cayouette</td>\n",
              "      <td>NaN</td>\n",
              "      <td>NaN</td>\n",
              "      <td>NaN</td>\n",
              "    </tr>\n",
              "    <tr>\n",
              "      <th>3</th>\n",
              "      <td>3</td>\n",
              "      <td>80155205</td>\n",
              "      <td>STIG</td>\n",
              "      <td>Bar furniture</td>\n",
              "      <td>69.0</td>\n",
              "      <td>No old price</td>\n",
              "      <td>True</td>\n",
              "      <td>https://www.ikea.com/sa/en/p/stig-bar-stool-wi...</td>\n",
              "      <td>Yes</td>\n",
              "      <td>Bar stool with backrest,          74 cm</td>\n",
              "      <td>Henrik Preutz</td>\n",
              "      <td>50.0</td>\n",
              "      <td>100.0</td>\n",
              "      <td>60.0</td>\n",
              "    </tr>\n",
              "    <tr>\n",
              "      <th>4</th>\n",
              "      <td>4</td>\n",
              "      <td>30180504</td>\n",
              "      <td>NORBERG</td>\n",
              "      <td>Bar furniture</td>\n",
              "      <td>225.0</td>\n",
              "      <td>No old price</td>\n",
              "      <td>True</td>\n",
              "      <td>https://www.ikea.com/sa/en/p/norberg-wall-moun...</td>\n",
              "      <td>No</td>\n",
              "      <td>Wall-mounted drop-leaf table,         ...</td>\n",
              "      <td>Marcus Arvonen</td>\n",
              "      <td>60.0</td>\n",
              "      <td>43.0</td>\n",
              "      <td>74.0</td>\n",
              "    </tr>\n",
              "  </tbody>\n",
              "</table>\n",
              "</div>"
            ],
            "text/plain": [
              "   Unnamed: 0   item_id                   name  ... depth  height width\n",
              "0           0  90420332               FREKVENS  ...   NaN    99.0  51.0\n",
              "1           1    368814              NORDVIKEN  ...   NaN   105.0  80.0\n",
              "2           2   9333523  NORDVIKEN / NORDVIKEN  ...   NaN     NaN   NaN\n",
              "3           3  80155205                   STIG  ...  50.0   100.0  60.0\n",
              "4           4  30180504                NORBERG  ...  60.0    43.0  74.0\n",
              "\n",
              "[5 rows x 14 columns]"
            ]
          },
          "metadata": {},
          "execution_count": 73
        }
      ]
    },
    {
      "cell_type": "code",
      "metadata": {
        "colab": {
          "base_uri": "https://localhost:8080/"
        },
        "id": "VXrE7QvPxxmM",
        "outputId": "0a904ba5-cfdb-4d09-d235-c9296bdb2e35"
      },
      "source": [
        "df.info()"
      ],
      "execution_count": null,
      "outputs": [
        {
          "output_type": "stream",
          "name": "stdout",
          "text": [
            "<class 'pandas.core.frame.DataFrame'>\n",
            "RangeIndex: 3694 entries, 0 to 3693\n",
            "Data columns (total 14 columns):\n",
            " #   Column             Non-Null Count  Dtype  \n",
            "---  ------             --------------  -----  \n",
            " 0   Unnamed: 0         3694 non-null   int64  \n",
            " 1   item_id            3694 non-null   int64  \n",
            " 2   name               3694 non-null   object \n",
            " 3   category           3694 non-null   object \n",
            " 4   price              3694 non-null   float64\n",
            " 5   old_price          3694 non-null   object \n",
            " 6   sellable_online    3694 non-null   bool   \n",
            " 7   link               3694 non-null   object \n",
            " 8   other_colors       3694 non-null   object \n",
            " 9   short_description  3694 non-null   object \n",
            " 10  designer           3694 non-null   object \n",
            " 11  depth              2231 non-null   float64\n",
            " 12  height             2706 non-null   float64\n",
            " 13  width              3105 non-null   float64\n",
            "dtypes: bool(1), float64(4), int64(2), object(7)\n",
            "memory usage: 378.9+ KB\n"
          ]
        }
      ]
    },
    {
      "cell_type": "code",
      "metadata": {
        "colab": {
          "base_uri": "https://localhost:8080/"
        },
        "id": "23tnqkFMDFNB",
        "outputId": "30412be8-e3b1-4ebc-f8b3-4f3373cd106f"
      },
      "source": [
        "# Checking missing data in dataframe.\n",
        "data = df[~df.isnull()].copy()\n",
        "\n",
        "# Checking the missing values in the dataset.\n",
        "df.isnull().sum()"
      ],
      "execution_count": null,
      "outputs": [
        {
          "output_type": "execute_result",
          "data": {
            "text/plain": [
              "Unnamed: 0              0\n",
              "item_id                 0\n",
              "name                    0\n",
              "category                0\n",
              "price                   0\n",
              "old_price               0\n",
              "sellable_online         0\n",
              "link                    0\n",
              "other_colors            0\n",
              "short_description       0\n",
              "designer                0\n",
              "depth                1463\n",
              "height                988\n",
              "width                 589\n",
              "dtype: int64"
            ]
          },
          "metadata": {},
          "execution_count": 75
        }
      ]
    },
    {
      "cell_type": "code",
      "metadata": {
        "id": "zDkInzbdAUq9"
      },
      "source": [
        "#remove baris yang memiliki missing value\n",
        "\n",
        "df = df.dropna()"
      ],
      "execution_count": null,
      "outputs": []
    },
    {
      "cell_type": "code",
      "metadata": {
        "colab": {
          "base_uri": "https://localhost:8080/"
        },
        "id": "v14F9V8iAvmJ",
        "outputId": "cc8e61be-8202-4577-90e9-21bbed3bd48a"
      },
      "source": [
        "df.info()"
      ],
      "execution_count": null,
      "outputs": [
        {
          "output_type": "stream",
          "name": "stdout",
          "text": [
            "<class 'pandas.core.frame.DataFrame'>\n",
            "Int64Index: 1899 entries, 3 to 3688\n",
            "Data columns (total 14 columns):\n",
            " #   Column             Non-Null Count  Dtype  \n",
            "---  ------             --------------  -----  \n",
            " 0   Unnamed: 0         1899 non-null   int64  \n",
            " 1   item_id            1899 non-null   int64  \n",
            " 2   name               1899 non-null   object \n",
            " 3   category           1899 non-null   object \n",
            " 4   price              1899 non-null   float64\n",
            " 5   old_price          1899 non-null   object \n",
            " 6   sellable_online    1899 non-null   bool   \n",
            " 7   link               1899 non-null   object \n",
            " 8   other_colors       1899 non-null   object \n",
            " 9   short_description  1899 non-null   object \n",
            " 10  designer           1899 non-null   object \n",
            " 11  depth              1899 non-null   float64\n",
            " 12  height             1899 non-null   float64\n",
            " 13  width              1899 non-null   float64\n",
            "dtypes: bool(1), float64(4), int64(2), object(7)\n",
            "memory usage: 209.6+ KB\n"
          ]
        }
      ]
    },
    {
      "cell_type": "code",
      "metadata": {
        "id": "rhhyWUdpwFg9",
        "colab": {
          "base_uri": "https://localhost:8080/"
        },
        "outputId": "e29b904e-5a23-4de5-f411-883156057fe2"
      },
      "source": [
        "df['sellable_online'] = df['sellable_online'].astype('str')\n",
        "df['sellable_online'] = df['sellable_online'].str.replace('True', '1')\n",
        "df['sellable_online'] = df['sellable_online'].str.replace('False', '0')\n",
        "df['sellable_online'] = pd.to_numeric(df['sellable_online'], errors='coerce')"
      ],
      "execution_count": null,
      "outputs": [
        {
          "output_type": "stream",
          "name": "stderr",
          "text": [
            "/usr/local/lib/python3.7/dist-packages/ipykernel_launcher.py:1: SettingWithCopyWarning: \n",
            "A value is trying to be set on a copy of a slice from a DataFrame.\n",
            "Try using .loc[row_indexer,col_indexer] = value instead\n",
            "\n",
            "See the caveats in the documentation: https://pandas.pydata.org/pandas-docs/stable/user_guide/indexing.html#returning-a-view-versus-a-copy\n",
            "  \"\"\"Entry point for launching an IPython kernel.\n",
            "/usr/local/lib/python3.7/dist-packages/ipykernel_launcher.py:2: SettingWithCopyWarning: \n",
            "A value is trying to be set on a copy of a slice from a DataFrame.\n",
            "Try using .loc[row_indexer,col_indexer] = value instead\n",
            "\n",
            "See the caveats in the documentation: https://pandas.pydata.org/pandas-docs/stable/user_guide/indexing.html#returning-a-view-versus-a-copy\n",
            "  \n",
            "/usr/local/lib/python3.7/dist-packages/ipykernel_launcher.py:3: SettingWithCopyWarning: \n",
            "A value is trying to be set on a copy of a slice from a DataFrame.\n",
            "Try using .loc[row_indexer,col_indexer] = value instead\n",
            "\n",
            "See the caveats in the documentation: https://pandas.pydata.org/pandas-docs/stable/user_guide/indexing.html#returning-a-view-versus-a-copy\n",
            "  This is separate from the ipykernel package so we can avoid doing imports until\n",
            "/usr/local/lib/python3.7/dist-packages/ipykernel_launcher.py:4: SettingWithCopyWarning: \n",
            "A value is trying to be set on a copy of a slice from a DataFrame.\n",
            "Try using .loc[row_indexer,col_indexer] = value instead\n",
            "\n",
            "See the caveats in the documentation: https://pandas.pydata.org/pandas-docs/stable/user_guide/indexing.html#returning-a-view-versus-a-copy\n",
            "  after removing the cwd from sys.path.\n"
          ]
        }
      ]
    },
    {
      "cell_type": "code",
      "metadata": {
        "colab": {
          "base_uri": "https://localhost:8080/"
        },
        "id": "0XoVNME03mLm",
        "outputId": "e89a61b9-95d2-424c-ccd8-7388dad5785e"
      },
      "source": [
        "df['other_colors'] = df['other_colors'].str.replace('Yes', '1')\n",
        "df['other_colors'] = df['other_colors'].str.replace('No', '0')\n",
        "df['other_colors'] = pd.to_numeric(df['other_colors'], errors='coerce')"
      ],
      "execution_count": null,
      "outputs": [
        {
          "output_type": "stream",
          "name": "stderr",
          "text": [
            "/usr/local/lib/python3.7/dist-packages/ipykernel_launcher.py:1: SettingWithCopyWarning: \n",
            "A value is trying to be set on a copy of a slice from a DataFrame.\n",
            "Try using .loc[row_indexer,col_indexer] = value instead\n",
            "\n",
            "See the caveats in the documentation: https://pandas.pydata.org/pandas-docs/stable/user_guide/indexing.html#returning-a-view-versus-a-copy\n",
            "  \"\"\"Entry point for launching an IPython kernel.\n",
            "/usr/local/lib/python3.7/dist-packages/ipykernel_launcher.py:2: SettingWithCopyWarning: \n",
            "A value is trying to be set on a copy of a slice from a DataFrame.\n",
            "Try using .loc[row_indexer,col_indexer] = value instead\n",
            "\n",
            "See the caveats in the documentation: https://pandas.pydata.org/pandas-docs/stable/user_guide/indexing.html#returning-a-view-versus-a-copy\n",
            "  \n",
            "/usr/local/lib/python3.7/dist-packages/ipykernel_launcher.py:3: SettingWithCopyWarning: \n",
            "A value is trying to be set on a copy of a slice from a DataFrame.\n",
            "Try using .loc[row_indexer,col_indexer] = value instead\n",
            "\n",
            "See the caveats in the documentation: https://pandas.pydata.org/pandas-docs/stable/user_guide/indexing.html#returning-a-view-versus-a-copy\n",
            "  This is separate from the ipykernel package so we can avoid doing imports until\n"
          ]
        }
      ]
    },
    {
      "cell_type": "code",
      "metadata": {
        "colab": {
          "base_uri": "https://localhost:8080/"
        },
        "id": "LA_idZd66GwU",
        "outputId": "e99fe3eb-76c8-4bbc-e5e0-3973d6db467b"
      },
      "source": [
        "df['category'].unique()"
      ],
      "execution_count": null,
      "outputs": [
        {
          "output_type": "execute_result",
          "data": {
            "text/plain": [
              "array(['Bar furniture', 'Beds', 'Bookcases & shelving units',\n",
              "       'Cabinets & cupboards', 'Café furniture', 'Chairs',\n",
              "       'Chests of drawers & drawer units', \"Children's furniture\",\n",
              "       'Nursery furniture', 'Outdoor furniture', 'Room dividers',\n",
              "       'Sideboards, buffets & console tables', 'Sofas & armchairs',\n",
              "       'Tables & desks', 'Trolleys', 'TV & media furniture', 'Wardrobes'],\n",
              "      dtype=object)"
            ]
          },
          "metadata": {},
          "execution_count": 80
        }
      ]
    },
    {
      "cell_type": "code",
      "metadata": {
        "id": "tUySlREx6zcI",
        "colab": {
          "base_uri": "https://localhost:8080/"
        },
        "outputId": "ba4839b6-50e4-4a8a-af22-f7638f868b08"
      },
      "source": [
        "df['Bar furniture'] = df['category'].apply(lambda x: 1 if 'Bar furniture' in x else 0)\n",
        "df['Beds'] = df['category'].apply(lambda x: 1 if 'Beds' in x else 0)\n",
        "df['Bookcases & shelving'] = df['category'].apply(lambda x: 1 if 'Bookcases & shelving units' in x else 0)\n",
        "df['Cabinets & cupboards'] = df['category'].apply(lambda x: 1 if 'Cabinets & cupboards' in x else 0)\n",
        "df['Café furniture'] = df['category'].apply(lambda x: 1 if 'Café furniture' in x else 0)\n",
        "df['Chairs'] = df['category'].apply(lambda x: 1 if 'Chairs' in x else 0)\n",
        "df['Chests of drawers & drawer'] = df['category'].apply(lambda x: 1 if 'Chests of drawers & drawer units' in x else 0)\n",
        "df[\"Children's\"] = df['category'].apply(lambda x: 1 if \"Children's furniture\" in x else 0)\n",
        "df['Nursery furniture'] = df['category'].apply(lambda x: 1 if 'Nursery furniture' in x else 0)\n",
        "df['Outdoor furniture'] = df['category'].apply(lambda x: 1 if 'Outdoor furniture' in x else 0)\n",
        "df['Room dividers'] = df['category'].apply(lambda x: 1 if 'Room dividers' in x else 0)\n",
        "df['Sideboards, buffets & console tables'] = df['category'].apply(lambda x: 1 if 'Sideboards, buffets & console tables' in x else 0)\n",
        "df['Sofas & armchairs'] = df['category'].apply(lambda x: 1 if 'Sofas & armchairs' in x else 0)\n",
        "df['Tables & desks'] = df['category'].apply(lambda x: 1 if 'Tables & desks' in x else 0)\n",
        "df['Trolleys'] = df['category'].apply(lambda x: 1 if 'Trolleys' in x else 0)\n",
        "df[\"TV & media furniture\"] = df['category'].apply(lambda x: 1 if \"TV & media furniture\" in x else 0)\n",
        "df[\"Wardrobes\"] = df['category'].apply(lambda x: 1 if \"Wardrobes\" in x else 0)"
      ],
      "execution_count": null,
      "outputs": [
        {
          "output_type": "stream",
          "name": "stderr",
          "text": [
            "/usr/local/lib/python3.7/dist-packages/ipykernel_launcher.py:1: SettingWithCopyWarning: \n",
            "A value is trying to be set on a copy of a slice from a DataFrame.\n",
            "Try using .loc[row_indexer,col_indexer] = value instead\n",
            "\n",
            "See the caveats in the documentation: https://pandas.pydata.org/pandas-docs/stable/user_guide/indexing.html#returning-a-view-versus-a-copy\n",
            "  \"\"\"Entry point for launching an IPython kernel.\n",
            "/usr/local/lib/python3.7/dist-packages/ipykernel_launcher.py:2: SettingWithCopyWarning: \n",
            "A value is trying to be set on a copy of a slice from a DataFrame.\n",
            "Try using .loc[row_indexer,col_indexer] = value instead\n",
            "\n",
            "See the caveats in the documentation: https://pandas.pydata.org/pandas-docs/stable/user_guide/indexing.html#returning-a-view-versus-a-copy\n",
            "  \n",
            "/usr/local/lib/python3.7/dist-packages/ipykernel_launcher.py:3: SettingWithCopyWarning: \n",
            "A value is trying to be set on a copy of a slice from a DataFrame.\n",
            "Try using .loc[row_indexer,col_indexer] = value instead\n",
            "\n",
            "See the caveats in the documentation: https://pandas.pydata.org/pandas-docs/stable/user_guide/indexing.html#returning-a-view-versus-a-copy\n",
            "  This is separate from the ipykernel package so we can avoid doing imports until\n",
            "/usr/local/lib/python3.7/dist-packages/ipykernel_launcher.py:4: SettingWithCopyWarning: \n",
            "A value is trying to be set on a copy of a slice from a DataFrame.\n",
            "Try using .loc[row_indexer,col_indexer] = value instead\n",
            "\n",
            "See the caveats in the documentation: https://pandas.pydata.org/pandas-docs/stable/user_guide/indexing.html#returning-a-view-versus-a-copy\n",
            "  after removing the cwd from sys.path.\n",
            "/usr/local/lib/python3.7/dist-packages/ipykernel_launcher.py:5: SettingWithCopyWarning: \n",
            "A value is trying to be set on a copy of a slice from a DataFrame.\n",
            "Try using .loc[row_indexer,col_indexer] = value instead\n",
            "\n",
            "See the caveats in the documentation: https://pandas.pydata.org/pandas-docs/stable/user_guide/indexing.html#returning-a-view-versus-a-copy\n",
            "  \"\"\"\n",
            "/usr/local/lib/python3.7/dist-packages/ipykernel_launcher.py:6: SettingWithCopyWarning: \n",
            "A value is trying to be set on a copy of a slice from a DataFrame.\n",
            "Try using .loc[row_indexer,col_indexer] = value instead\n",
            "\n",
            "See the caveats in the documentation: https://pandas.pydata.org/pandas-docs/stable/user_guide/indexing.html#returning-a-view-versus-a-copy\n",
            "  \n",
            "/usr/local/lib/python3.7/dist-packages/ipykernel_launcher.py:7: SettingWithCopyWarning: \n",
            "A value is trying to be set on a copy of a slice from a DataFrame.\n",
            "Try using .loc[row_indexer,col_indexer] = value instead\n",
            "\n",
            "See the caveats in the documentation: https://pandas.pydata.org/pandas-docs/stable/user_guide/indexing.html#returning-a-view-versus-a-copy\n",
            "  import sys\n",
            "/usr/local/lib/python3.7/dist-packages/ipykernel_launcher.py:8: SettingWithCopyWarning: \n",
            "A value is trying to be set on a copy of a slice from a DataFrame.\n",
            "Try using .loc[row_indexer,col_indexer] = value instead\n",
            "\n",
            "See the caveats in the documentation: https://pandas.pydata.org/pandas-docs/stable/user_guide/indexing.html#returning-a-view-versus-a-copy\n",
            "  \n",
            "/usr/local/lib/python3.7/dist-packages/ipykernel_launcher.py:9: SettingWithCopyWarning: \n",
            "A value is trying to be set on a copy of a slice from a DataFrame.\n",
            "Try using .loc[row_indexer,col_indexer] = value instead\n",
            "\n",
            "See the caveats in the documentation: https://pandas.pydata.org/pandas-docs/stable/user_guide/indexing.html#returning-a-view-versus-a-copy\n",
            "  if __name__ == '__main__':\n",
            "/usr/local/lib/python3.7/dist-packages/ipykernel_launcher.py:10: SettingWithCopyWarning: \n",
            "A value is trying to be set on a copy of a slice from a DataFrame.\n",
            "Try using .loc[row_indexer,col_indexer] = value instead\n",
            "\n",
            "See the caveats in the documentation: https://pandas.pydata.org/pandas-docs/stable/user_guide/indexing.html#returning-a-view-versus-a-copy\n",
            "  # Remove the CWD from sys.path while we load stuff.\n"
          ]
        }
      ]
    },
    {
      "cell_type": "code",
      "metadata": {
        "id": "34pe6tqH-Elg"
      },
      "source": [
        "df.drop('category', axis=1, inplace=True)"
      ],
      "execution_count": null,
      "outputs": []
    },
    {
      "cell_type": "code",
      "metadata": {
        "colab": {
          "base_uri": "https://localhost:8080/"
        },
        "id": "wCMOlcC6ITVk",
        "outputId": "1af78d88-9265-44a1-82d4-3146a2af9269"
      },
      "source": [
        "df['old_price'].head(10) #checking old price data"
      ],
      "execution_count": null,
      "outputs": [
        {
          "output_type": "execute_result",
          "data": {
            "text/plain": [
              "3     No old price\n",
              "4     No old price\n",
              "5     No old price\n",
              "6     No old price\n",
              "8     No old price\n",
              "10    No old price\n",
              "11    No old price\n",
              "12    No old price\n",
              "13          SR 295\n",
              "14    No old price\n",
              "Name: old_price, dtype: object"
            ]
          },
          "metadata": {},
          "execution_count": 83
        }
      ]
    },
    {
      "cell_type": "code",
      "metadata": {
        "colab": {
          "base_uri": "https://localhost:8080/"
        },
        "id": "JLTTCwnHIrZ4",
        "outputId": "c1563417-ea61-4a8f-c279-328325a8f1d5"
      },
      "source": [
        "# Checking missing data in old price\n",
        "data = df['old_price']=='No old price'\n",
        "data.sum()"
      ],
      "execution_count": null,
      "outputs": [
        {
          "output_type": "execute_result",
          "data": {
            "text/plain": [
              "1541"
            ]
          },
          "metadata": {},
          "execution_count": 84
        }
      ]
    },
    {
      "cell_type": "code",
      "metadata": {
        "id": "_tmCqeaKB9-T"
      },
      "source": [
        "df.drop('old_price', axis=1, inplace=True)"
      ],
      "execution_count": null,
      "outputs": []
    },
    {
      "cell_type": "code",
      "metadata": {
        "colab": {
          "base_uri": "https://localhost:8080/"
        },
        "id": "300DJoc45wxN",
        "outputId": "7ceae8fc-b67e-4556-a9f4-0a859547ca04"
      },
      "source": [
        "df['short_description'].sample(10)"
      ],
      "execution_count": null,
      "outputs": [
        {
          "output_type": "execute_result",
          "data": {
            "text/plain": [
              "1133                                             Recliner\n",
              "681             Wall-mounted cabinet combination,     ...\n",
              "1186                                             Armchair\n",
              "1559                                        Chaise longue\n",
              "2364                                          2-seat sofa\n",
              "5                 Bar stool with backrest,          63 cm\n",
              "427             Frame with mesh baskets,          50x5...\n",
              "3490            Open wardrobe with sliding door,      ...\n",
              "1901                        Shelf unit,          29x88 cm\n",
              "1694                       Drawer unit,          33x70 cm\n",
              "Name: short_description, dtype: object"
            ]
          },
          "metadata": {},
          "execution_count": 86
        }
      ]
    },
    {
      "cell_type": "code",
      "metadata": {
        "colab": {
          "base_uri": "https://localhost:8080/"
        },
        "id": "vbXRFz9m-TlH",
        "outputId": "3124983e-7152-49e2-a0d5-0b15c8d916cc"
      },
      "source": [
        "df['designer'].sample(10)"
      ],
      "execution_count": null,
      "outputs": [
        {
          "output_type": "execute_result",
          "data": {
            "text/plain": [
              "400                                        IKEA of Sweden\n",
              "1063                                         Jon Karlsson\n",
              "2475                                        Henrik Preutz\n",
              "3507                       Ehlén Johansson/IKEA of Sweden\n",
              "1715                                         Ola Wihlborg\n",
              "129                                          Ola Wihlborg\n",
              "241                        Ehlén Johansson/IKEA of Sweden\n",
              "1723                                         Ola Wihlborg\n",
              "3538    Ebba Strandmark/IKEA of Sweden/Ola Wihlborg/Eh...\n",
              "2948                                         Ola Wihlborg\n",
              "Name: designer, dtype: object"
            ]
          },
          "metadata": {},
          "execution_count": 87
        }
      ]
    },
    {
      "cell_type": "code",
      "metadata": {
        "id": "rmy1KGwHCEf9"
      },
      "source": [
        "#remove description, link, unnamed, name dan designer\n",
        "\n",
        "df.drop('short_description', axis=1, inplace=True)\n",
        "df.drop('designer', axis=1, inplace=True)\n",
        "df.drop('link', axis=1, inplace=True)\n",
        "df.drop('Unnamed: 0', axis=1, inplace=True)\n",
        "df.drop('name', axis=1, inplace=True)"
      ],
      "execution_count": null,
      "outputs": []
    },
    {
      "cell_type": "markdown",
      "metadata": {
        "id": "4FAqKVdFDQRH"
      },
      "source": [
        "#Normalization"
      ]
    },
    {
      "cell_type": "code",
      "metadata": {
        "id": "WBOnZBxGDUHR"
      },
      "source": [
        "df = np.log1p(df)"
      ],
      "execution_count": null,
      "outputs": []
    },
    {
      "cell_type": "markdown",
      "metadata": {
        "id": "14rhlKu0psql"
      },
      "source": [
        "##Numerical data normal"
      ]
    },
    {
      "cell_type": "code",
      "metadata": {
        "colab": {
          "base_uri": "https://localhost:8080/",
          "height": 382
        },
        "id": "TfCrmyZ_EicZ",
        "outputId": "bd25d434-1414-4a41-f1fb-9fa5b5d534d2"
      },
      "source": [
        "# check the distribution of 'price' column\n",
        "sns.displot(df['price'])"
      ],
      "execution_count": null,
      "outputs": [
        {
          "output_type": "execute_result",
          "data": {
            "text/plain": [
              "<seaborn.axisgrid.FacetGrid at 0x7fa0151d7b50>"
            ]
          },
          "metadata": {},
          "execution_count": 90
        },
        {
          "output_type": "display_data",
          "data": {
            "image/png": "[encoded data removed]",
            "text/plain": [
              "<Figure size 360x360 with 1 Axes>"
            ]
          },
          "metadata": {}
        }
      ]
    },
    {
      "cell_type": "code",
      "metadata": {
        "colab": {
          "base_uri": "https://localhost:8080/",
          "height": 382
        },
        "id": "Hk7NGlUFp6PR",
        "outputId": "733d1595-2983-427a-eeb7-5e4dbb9d224f"
      },
      "source": [
        "# check the distribution of 'price' column\n",
        "sns.displot(df['depth'])"
      ],
      "execution_count": null,
      "outputs": [
        {
          "output_type": "execute_result",
          "data": {
            "text/plain": [
              "<seaborn.axisgrid.FacetGrid at 0x7fa0144689d0>"
            ]
          },
          "metadata": {},
          "execution_count": 91
        },
        {
          "output_type": "display_data",
          "data": {
            "image/png": "[encoded data removed]",
            "text/plain": [
              "<Figure size 360x360 with 1 Axes>"
            ]
          },
          "metadata": {}
        }
      ]
    },
    {
      "cell_type": "code",
      "metadata": {
        "colab": {
          "base_uri": "https://localhost:8080/",
          "height": 382
        },
        "id": "KSCuTbMjp7OY",
        "outputId": "3a74f547-0538-45e6-a909-89063eb53946"
      },
      "source": [
        "# check the distribution of 'price' column\n",
        "sns.displot(df['height'])"
      ],
      "execution_count": null,
      "outputs": [
        {
          "output_type": "execute_result",
          "data": {
            "text/plain": [
              "<seaborn.axisgrid.FacetGrid at 0x7fa0144ba990>"
            ]
          },
          "metadata": {},
          "execution_count": 92
        },
        {
          "output_type": "display_data",
          "data": {
            "image/png": "[encoded data removed]",
            "text/plain": [
              "<Figure size 360x360 with 1 Axes>"
            ]
          },
          "metadata": {}
        }
      ]
    },
    {
      "cell_type": "code",
      "metadata": {
        "colab": {
          "base_uri": "https://localhost:8080/",
          "height": 382
        },
        "id": "BBqp_t9Rp7pt",
        "outputId": "a93355c5-7023-401d-e185-676f8df66048"
      },
      "source": [
        "# check the distribution of 'price' column\n",
        "sns.displot(df['width'])"
      ],
      "execution_count": null,
      "outputs": [
        {
          "output_type": "execute_result",
          "data": {
            "text/plain": [
              "<seaborn.axisgrid.FacetGrid at 0x7fa014b56cd0>"
            ]
          },
          "metadata": {},
          "execution_count": 93
        },
        {
          "output_type": "display_data",
          "data": {
            "image/png": "[encoded data removed]",
            "text/plain": [
              "<Figure size 360x360 with 1 Axes>"
            ]
          },
          "metadata": {}
        }
      ]
    },
    {
      "cell_type": "markdown",
      "metadata": {
        "id": "nXhNvlQKp0cP"
      },
      "source": [
        "##Ourlier data normal"
      ]
    },
    {
      "cell_type": "code",
      "metadata": {
        "colab": {
          "base_uri": "https://localhost:8080/",
          "height": 501
        },
        "id": "by-Xel8lEnbQ",
        "outputId": "c52340d2-6e85-4a8d-fb87-fd5ff79e7610"
      },
      "source": [
        "#Outlier Analysis\n",
        "df['price'].plot(kind='box',figsize=(10,8))\n",
        "plt.title(\"Price Boxplot\")\n",
        "plt.show()"
      ],
      "execution_count": null,
      "outputs": [
        {
          "output_type": "display_data",
          "data": {
            "image/png": "[encoded data removed]",
            "text/plain": [
              "<Figure size 720x576 with 1 Axes>"
            ]
          },
          "metadata": {}
        }
      ]
    },
    {
      "cell_type": "code",
      "metadata": {
        "colab": {
          "base_uri": "https://localhost:8080/",
          "height": 501
        },
        "id": "Axcg131JqLdA",
        "outputId": "83d68eec-d1f3-4eea-f471-9c8ff5a545da"
      },
      "source": [
        "#Outlier Analysis\n",
        "df['depth'].plot(kind='box',figsize=(10,8))\n",
        "plt.title(\"Depth Boxplot\")\n",
        "plt.show()"
      ],
      "execution_count": null,
      "outputs": [
        {
          "output_type": "display_data",
          "data": {
            "image/png": "[encoded data removed]",
            "text/plain": [
              "<Figure size 720x576 with 1 Axes>"
            ]
          },
          "metadata": {}
        }
      ]
    },
    {
      "cell_type": "code",
      "metadata": {
        "colab": {
          "base_uri": "https://localhost:8080/",
          "height": 501
        },
        "id": "jWSxBEgqqMCc",
        "outputId": "b2e8e3b8-4dc7-442e-a12e-b4cf416e4fa4"
      },
      "source": [
        "#Outlier Analysis\n",
        "df['height'].plot(kind='box',figsize=(10,8))\n",
        "plt.title(\"Height Boxplot\")\n",
        "plt.show()"
      ],
      "execution_count": null,
      "outputs": [
        {
          "output_type": "display_data",
          "data": {
            "image/png": "[encoded data removed]",
            "text/plain": [
              "<Figure size 720x576 with 1 Axes>"
            ]
          },
          "metadata": {}
        }
      ]
    },
    {
      "cell_type": "code",
      "metadata": {
        "colab": {
          "base_uri": "https://localhost:8080/",
          "height": 501
        },
        "id": "iYACNGncqMXK",
        "outputId": "905809d9-fd49-45d2-a96d-b25bec6ae792"
      },
      "source": [
        "#Outlier Analysis\n",
        "df['width'].plot(kind='box',figsize=(10,8))\n",
        "plt.title(\"Width Boxplot\")\n",
        "plt.show()"
      ],
      "execution_count": null,
      "outputs": [
        {
          "output_type": "display_data",
          "data": {
            "image/png": "[encoded data removed]",
            "text/plain": [
              "<Figure size 720x576 with 1 Axes>"
            ]
          },
          "metadata": {}
        }
      ]
    },
    {
      "cell_type": "markdown",
      "metadata": {
        "id": "3ApJq9mXxwPQ"
      },
      "source": [
        "#Feature Engineering"
      ]
    },
    {
      "cell_type": "code",
      "metadata": {
        "id": "iBx5BIq_xzgK"
      },
      "source": [
        "df['Dimension'] = df['height']*df['width']*df['depth']"
      ],
      "execution_count": null,
      "outputs": []
    },
    {
      "cell_type": "code",
      "metadata": {
        "colab": {
          "base_uri": "https://localhost:8080/",
          "height": 296
        },
        "id": "Q0SxaNTgykEP",
        "outputId": "78d84882-c1af-4c09-fe88-71ffff7550ce"
      },
      "source": [
        "df.sample(5)"
      ],
      "execution_count": null,
      "outputs": [
        {
          "output_type": "execute_result",
          "data": {
            "text/html": [
              "<div>\n",
              "<style scoped>\n",
              "    .dataframe tbody tr th:only-of-type {\n",
              "        vertical-align: middle;\n",
              "    }\n",
              "\n",
              "    .dataframe tbody tr th {\n",
              "        vertical-align: top;\n",
              "    }\n",
              "\n",
              "    .dataframe thead th {\n",
              "        text-align: right;\n",
              "    }\n",
              "</style>\n",
              "<table border=\"1\" class=\"dataframe\">\n",
              "  <thead>\n",
              "    <tr style=\"text-align: right;\">\n",
              "      <th></th>\n",
              "      <th>item_id</th>\n",
              "      <th>price</th>\n",
              "      <th>sellable_online</th>\n",
              "      <th>other_colors</th>\n",
              "      <th>depth</th>\n",
              "      <th>height</th>\n",
              "      <th>width</th>\n",
              "      <th>Bar furniture</th>\n",
              "      <th>Beds</th>\n",
              "      <th>Bookcases &amp; shelving</th>\n",
              "      <th>Cabinets &amp; cupboards</th>\n",
              "      <th>Café furniture</th>\n",
              "      <th>Chairs</th>\n",
              "      <th>Chests of drawers &amp; drawer</th>\n",
              "      <th>Children's</th>\n",
              "      <th>Nursery furniture</th>\n",
              "      <th>Outdoor furniture</th>\n",
              "      <th>Room dividers</th>\n",
              "      <th>Sideboards, buffets &amp; console tables</th>\n",
              "      <th>Sofas &amp; armchairs</th>\n",
              "      <th>Tables &amp; desks</th>\n",
              "      <th>Trolleys</th>\n",
              "      <th>TV &amp; media furniture</th>\n",
              "      <th>Wardrobes</th>\n",
              "      <th>Dimension</th>\n",
              "    </tr>\n",
              "  </thead>\n",
              "  <tbody>\n",
              "    <tr>\n",
              "      <th>323</th>\n",
              "      <td>18.413524</td>\n",
              "      <td>7.450080</td>\n",
              "      <td>0.693147</td>\n",
              "      <td>0.693147</td>\n",
              "      <td>3.713572</td>\n",
              "      <td>5.398163</td>\n",
              "      <td>5.351858</td>\n",
              "      <td>0.0</td>\n",
              "      <td>0.0</td>\n",
              "      <td>0.693147</td>\n",
              "      <td>0.0</td>\n",
              "      <td>0.0</td>\n",
              "      <td>0.000000</td>\n",
              "      <td>0.0</td>\n",
              "      <td>0.0</td>\n",
              "      <td>0.0</td>\n",
              "      <td>0.0</td>\n",
              "      <td>0.0</td>\n",
              "      <td>0.0</td>\n",
              "      <td>0.0</td>\n",
              "      <td>0.000000</td>\n",
              "      <td>0.0</td>\n",
              "      <td>0.0</td>\n",
              "      <td>0.0</td>\n",
              "      <td>107.285843</td>\n",
              "    </tr>\n",
              "    <tr>\n",
              "      <th>3064</th>\n",
              "      <td>17.915734</td>\n",
              "      <td>6.206576</td>\n",
              "      <td>0.693147</td>\n",
              "      <td>0.000000</td>\n",
              "      <td>4.077537</td>\n",
              "      <td>4.262680</td>\n",
              "      <td>3.526361</td>\n",
              "      <td>0.0</td>\n",
              "      <td>0.0</td>\n",
              "      <td>0.000000</td>\n",
              "      <td>0.0</td>\n",
              "      <td>0.0</td>\n",
              "      <td>0.000000</td>\n",
              "      <td>0.0</td>\n",
              "      <td>0.0</td>\n",
              "      <td>0.0</td>\n",
              "      <td>0.0</td>\n",
              "      <td>0.0</td>\n",
              "      <td>0.0</td>\n",
              "      <td>0.0</td>\n",
              "      <td>0.693147</td>\n",
              "      <td>0.0</td>\n",
              "      <td>0.0</td>\n",
              "      <td>0.0</td>\n",
              "      <td>61.292507</td>\n",
              "    </tr>\n",
              "    <tr>\n",
              "      <th>613</th>\n",
              "      <td>16.045217</td>\n",
              "      <td>5.017280</td>\n",
              "      <td>0.693147</td>\n",
              "      <td>0.000000</td>\n",
              "      <td>3.951244</td>\n",
              "      <td>4.262680</td>\n",
              "      <td>3.931826</td>\n",
              "      <td>0.0</td>\n",
              "      <td>0.0</td>\n",
              "      <td>0.693147</td>\n",
              "      <td>0.0</td>\n",
              "      <td>0.0</td>\n",
              "      <td>0.000000</td>\n",
              "      <td>0.0</td>\n",
              "      <td>0.0</td>\n",
              "      <td>0.0</td>\n",
              "      <td>0.0</td>\n",
              "      <td>0.0</td>\n",
              "      <td>0.0</td>\n",
              "      <td>0.0</td>\n",
              "      <td>0.000000</td>\n",
              "      <td>0.0</td>\n",
              "      <td>0.0</td>\n",
              "      <td>0.0</td>\n",
              "      <td>66.223295</td>\n",
              "    </tr>\n",
              "    <tr>\n",
              "      <th>1304</th>\n",
              "      <td>18.307260</td>\n",
              "      <td>7.575072</td>\n",
              "      <td>0.693147</td>\n",
              "      <td>0.693147</td>\n",
              "      <td>4.543295</td>\n",
              "      <td>4.442651</td>\n",
              "      <td>4.736198</td>\n",
              "      <td>0.0</td>\n",
              "      <td>0.0</td>\n",
              "      <td>0.000000</td>\n",
              "      <td>0.0</td>\n",
              "      <td>0.0</td>\n",
              "      <td>0.693147</td>\n",
              "      <td>0.0</td>\n",
              "      <td>0.0</td>\n",
              "      <td>0.0</td>\n",
              "      <td>0.0</td>\n",
              "      <td>0.0</td>\n",
              "      <td>0.0</td>\n",
              "      <td>0.0</td>\n",
              "      <td>0.000000</td>\n",
              "      <td>0.0</td>\n",
              "      <td>0.0</td>\n",
              "      <td>0.0</td>\n",
              "      <td>95.596728</td>\n",
              "    </tr>\n",
              "    <tr>\n",
              "      <th>1474</th>\n",
              "      <td>17.735597</td>\n",
              "      <td>6.614726</td>\n",
              "      <td>0.693147</td>\n",
              "      <td>0.000000</td>\n",
              "      <td>3.931826</td>\n",
              "      <td>4.356709</td>\n",
              "      <td>3.912023</td>\n",
              "      <td>0.0</td>\n",
              "      <td>0.0</td>\n",
              "      <td>0.000000</td>\n",
              "      <td>0.0</td>\n",
              "      <td>0.0</td>\n",
              "      <td>0.693147</td>\n",
              "      <td>0.0</td>\n",
              "      <td>0.0</td>\n",
              "      <td>0.0</td>\n",
              "      <td>0.0</td>\n",
              "      <td>0.0</td>\n",
              "      <td>0.0</td>\n",
              "      <td>0.0</td>\n",
              "      <td>0.000000</td>\n",
              "      <td>0.0</td>\n",
              "      <td>0.0</td>\n",
              "      <td>0.0</td>\n",
              "      <td>67.012248</td>\n",
              "    </tr>\n",
              "  </tbody>\n",
              "</table>\n",
              "</div>"
            ],
            "text/plain": [
              "        item_id     price  ...  Wardrobes   Dimension\n",
              "323   18.413524  7.450080  ...        0.0  107.285843\n",
              "3064  17.915734  6.206576  ...        0.0   61.292507\n",
              "613   16.045217  5.017280  ...        0.0   66.223295\n",
              "1304  18.307260  7.575072  ...        0.0   95.596728\n",
              "1474  17.735597  6.614726  ...        0.0   67.012248\n",
              "\n",
              "[5 rows x 25 columns]"
            ]
          },
          "metadata": {},
          "execution_count": 99
        }
      ]
    },
    {
      "cell_type": "markdown",
      "metadata": {
        "id": "ij1BFo5MRbDh"
      },
      "source": [
        "#Correlation Analysis"
      ]
    },
    {
      "cell_type": "code",
      "metadata": {
        "colab": {
          "base_uri": "https://localhost:8080/",
          "height": 1000
        },
        "id": "gVf6G3akODo8",
        "outputId": "d288cb42-1b4c-4f44-c8aa-5f076bb607f0"
      },
      "source": [
        "df_corr = df.corr()\n",
        "df_corr"
      ],
      "execution_count": null,
      "outputs": [
        {
          "output_type": "execute_result",
          "data": {
            "text/html": [
              "<div>\n",
              "<style scoped>\n",
              "    .dataframe tbody tr th:only-of-type {\n",
              "        vertical-align: middle;\n",
              "    }\n",
              "\n",
              "    .dataframe tbody tr th {\n",
              "        vertical-align: top;\n",
              "    }\n",
              "\n",
              "    .dataframe thead th {\n",
              "        text-align: right;\n",
              "    }\n",
              "</style>\n",
              "<table border=\"1\" class=\"dataframe\">\n",
              "  <thead>\n",
              "    <tr style=\"text-align: right;\">\n",
              "      <th></th>\n",
              "      <th>item_id</th>\n",
              "      <th>price</th>\n",
              "      <th>sellable_online</th>\n",
              "      <th>other_colors</th>\n",
              "      <th>depth</th>\n",
              "      <th>height</th>\n",
              "      <th>width</th>\n",
              "      <th>Bar furniture</th>\n",
              "      <th>Beds</th>\n",
              "      <th>Bookcases &amp; shelving</th>\n",
              "      <th>Cabinets &amp; cupboards</th>\n",
              "      <th>Café furniture</th>\n",
              "      <th>Chairs</th>\n",
              "      <th>Chests of drawers &amp; drawer</th>\n",
              "      <th>Children's</th>\n",
              "      <th>Nursery furniture</th>\n",
              "      <th>Outdoor furniture</th>\n",
              "      <th>Room dividers</th>\n",
              "      <th>Sideboards, buffets &amp; console tables</th>\n",
              "      <th>Sofas &amp; armchairs</th>\n",
              "      <th>Tables &amp; desks</th>\n",
              "      <th>Trolleys</th>\n",
              "      <th>TV &amp; media furniture</th>\n",
              "      <th>Wardrobes</th>\n",
              "      <th>Dimension</th>\n",
              "    </tr>\n",
              "  </thead>\n",
              "  <tbody>\n",
              "    <tr>\n",
              "      <th>item_id</th>\n",
              "      <td>1.000000</td>\n",
              "      <td>0.097478</td>\n",
              "      <td>-0.001662</td>\n",
              "      <td>0.045903</td>\n",
              "      <td>0.074383</td>\n",
              "      <td>0.068180</td>\n",
              "      <td>0.123698</td>\n",
              "      <td>-0.084082</td>\n",
              "      <td>-0.007354</td>\n",
              "      <td>0.015780</td>\n",
              "      <td>0.009729</td>\n",
              "      <td>-0.090901</td>\n",
              "      <td>-0.079861</td>\n",
              "      <td>-0.007191</td>\n",
              "      <td>0.026100</td>\n",
              "      <td>0.009682</td>\n",
              "      <td>-0.003689</td>\n",
              "      <td>-0.014302</td>\n",
              "      <td>-0.004046</td>\n",
              "      <td>0.054726</td>\n",
              "      <td>0.007252</td>\n",
              "      <td>-0.043555</td>\n",
              "      <td>0.020272</td>\n",
              "      <td>0.034005</td>\n",
              "      <td>0.118809</td>\n",
              "    </tr>\n",
              "    <tr>\n",
              "      <th>price</th>\n",
              "      <td>0.097478</td>\n",
              "      <td>1.000000</td>\n",
              "      <td>0.168061</td>\n",
              "      <td>0.213422</td>\n",
              "      <td>0.545825</td>\n",
              "      <td>0.494220</td>\n",
              "      <td>0.772201</td>\n",
              "      <td>-0.075085</td>\n",
              "      <td>0.174272</td>\n",
              "      <td>-0.174042</td>\n",
              "      <td>0.030627</td>\n",
              "      <td>-0.050916</td>\n",
              "      <td>-0.190356</td>\n",
              "      <td>-0.063032</td>\n",
              "      <td>-0.177456</td>\n",
              "      <td>-0.121775</td>\n",
              "      <td>-0.037408</td>\n",
              "      <td>0.008455</td>\n",
              "      <td>0.036132</td>\n",
              "      <td>0.360244</td>\n",
              "      <td>-0.125353</td>\n",
              "      <td>-0.014574</td>\n",
              "      <td>0.015190</td>\n",
              "      <td>0.273380</td>\n",
              "      <td>0.841560</td>\n",
              "    </tr>\n",
              "    <tr>\n",
              "      <th>sellable_online</th>\n",
              "      <td>-0.001662</td>\n",
              "      <td>0.168061</td>\n",
              "      <td>1.000000</td>\n",
              "      <td>0.028589</td>\n",
              "      <td>0.078872</td>\n",
              "      <td>0.101575</td>\n",
              "      <td>0.095543</td>\n",
              "      <td>-0.047778</td>\n",
              "      <td>0.017183</td>\n",
              "      <td>0.041184</td>\n",
              "      <td>0.028406</td>\n",
              "      <td>0.006893</td>\n",
              "      <td>-0.010966</td>\n",
              "      <td>0.021658</td>\n",
              "      <td>-0.143715</td>\n",
              "      <td>-0.128492</td>\n",
              "      <td>0.017525</td>\n",
              "      <td>0.004674</td>\n",
              "      <td>0.008565</td>\n",
              "      <td>0.030284</td>\n",
              "      <td>0.019882</td>\n",
              "      <td>-0.087260</td>\n",
              "      <td>0.019052</td>\n",
              "      <td>0.028406</td>\n",
              "      <td>0.118996</td>\n",
              "    </tr>\n",
              "    <tr>\n",
              "      <th>other_colors</th>\n",
              "      <td>0.045903</td>\n",
              "      <td>0.213422</td>\n",
              "      <td>0.028589</td>\n",
              "      <td>1.000000</td>\n",
              "      <td>0.116799</td>\n",
              "      <td>-0.009651</td>\n",
              "      <td>0.165031</td>\n",
              "      <td>-0.080331</td>\n",
              "      <td>0.056199</td>\n",
              "      <td>-0.020910</td>\n",
              "      <td>0.180793</td>\n",
              "      <td>-0.054156</td>\n",
              "      <td>-0.104152</td>\n",
              "      <td>-0.017464</td>\n",
              "      <td>-0.060646</td>\n",
              "      <td>-0.039994</td>\n",
              "      <td>-0.087932</td>\n",
              "      <td>0.058630</td>\n",
              "      <td>0.055814</td>\n",
              "      <td>0.199792</td>\n",
              "      <td>-0.029840</td>\n",
              "      <td>-0.050916</td>\n",
              "      <td>0.098762</td>\n",
              "      <td>-0.180555</td>\n",
              "      <td>0.116498</td>\n",
              "    </tr>\n",
              "    <tr>\n",
              "      <th>depth</th>\n",
              "      <td>0.074383</td>\n",
              "      <td>0.545825</td>\n",
              "      <td>0.078872</td>\n",
              "      <td>0.116799</td>\n",
              "      <td>1.000000</td>\n",
              "      <td>0.122208</td>\n",
              "      <td>0.398830</td>\n",
              "      <td>-0.014182</td>\n",
              "      <td>0.181003</td>\n",
              "      <td>-0.339817</td>\n",
              "      <td>-0.200217</td>\n",
              "      <td>-0.020481</td>\n",
              "      <td>0.106279</td>\n",
              "      <td>-0.037143</td>\n",
              "      <td>-0.084127</td>\n",
              "      <td>-0.074249</td>\n",
              "      <td>0.144059</td>\n",
              "      <td>-0.029617</td>\n",
              "      <td>-0.044155</td>\n",
              "      <td>0.526846</td>\n",
              "      <td>-0.083012</td>\n",
              "      <td>-0.015989</td>\n",
              "      <td>-0.116071</td>\n",
              "      <td>0.071930</td>\n",
              "      <td>0.633115</td>\n",
              "    </tr>\n",
              "    <tr>\n",
              "      <th>height</th>\n",
              "      <td>0.068180</td>\n",
              "      <td>0.494220</td>\n",
              "      <td>0.101575</td>\n",
              "      <td>-0.009651</td>\n",
              "      <td>0.122208</td>\n",
              "      <td>1.000000</td>\n",
              "      <td>0.360488</td>\n",
              "      <td>-0.003985</td>\n",
              "      <td>-0.170607</td>\n",
              "      <td>0.136155</td>\n",
              "      <td>0.050053</td>\n",
              "      <td>-0.025897</td>\n",
              "      <td>-0.119477</td>\n",
              "      <td>-0.099187</td>\n",
              "      <td>-0.087602</td>\n",
              "      <td>-0.048028</td>\n",
              "      <td>-0.056749</td>\n",
              "      <td>0.044266</td>\n",
              "      <td>0.019598</td>\n",
              "      <td>-0.096351</td>\n",
              "      <td>-0.130112</td>\n",
              "      <td>-0.006873</td>\n",
              "      <td>-0.026414</td>\n",
              "      <td>0.419406</td>\n",
              "      <td>0.669698</td>\n",
              "    </tr>\n",
              "    <tr>\n",
              "      <th>width</th>\n",
              "      <td>0.123698</td>\n",
              "      <td>0.772201</td>\n",
              "      <td>0.095543</td>\n",
              "      <td>0.165031</td>\n",
              "      <td>0.398830</td>\n",
              "      <td>0.360488</td>\n",
              "      <td>1.000000</td>\n",
              "      <td>-0.125681</td>\n",
              "      <td>0.156057</td>\n",
              "      <td>0.009825</td>\n",
              "      <td>-0.021247</td>\n",
              "      <td>-0.084420</td>\n",
              "      <td>-0.278601</td>\n",
              "      <td>-0.137115</td>\n",
              "      <td>-0.138215</td>\n",
              "      <td>-0.104153</td>\n",
              "      <td>-0.038264</td>\n",
              "      <td>0.040453</td>\n",
              "      <td>0.036572</td>\n",
              "      <td>0.307784</td>\n",
              "      <td>-0.141455</td>\n",
              "      <td>-0.023804</td>\n",
              "      <td>0.140088</td>\n",
              "      <td>0.214670</td>\n",
              "      <td>0.831022</td>\n",
              "    </tr>\n",
              "    <tr>\n",
              "      <th>Bar furniture</th>\n",
              "      <td>-0.084082</td>\n",
              "      <td>-0.075085</td>\n",
              "      <td>-0.047778</td>\n",
              "      <td>-0.080331</td>\n",
              "      <td>-0.014182</td>\n",
              "      <td>-0.003985</td>\n",
              "      <td>-0.125681</td>\n",
              "      <td>1.000000</td>\n",
              "      <td>-0.023415</td>\n",
              "      <td>-0.056121</td>\n",
              "      <td>-0.038709</td>\n",
              "      <td>-0.009393</td>\n",
              "      <td>-0.040213</td>\n",
              "      <td>-0.029514</td>\n",
              "      <td>-0.023415</td>\n",
              "      <td>-0.020785</td>\n",
              "      <td>-0.023881</td>\n",
              "      <td>-0.006369</td>\n",
              "      <td>-0.011672</td>\n",
              "      <td>-0.041269</td>\n",
              "      <td>-0.027094</td>\n",
              "      <td>-0.007807</td>\n",
              "      <td>-0.025963</td>\n",
              "      <td>-0.038709</td>\n",
              "      <td>-0.078967</td>\n",
              "    </tr>\n",
              "    <tr>\n",
              "      <th>Beds</th>\n",
              "      <td>-0.007354</td>\n",
              "      <td>0.174272</td>\n",
              "      <td>0.017183</td>\n",
              "      <td>0.056199</td>\n",
              "      <td>0.181003</td>\n",
              "      <td>-0.170607</td>\n",
              "      <td>0.156057</td>\n",
              "      <td>-0.023415</td>\n",
              "      <td>1.000000</td>\n",
              "      <td>-0.102663</td>\n",
              "      <td>-0.070810</td>\n",
              "      <td>-0.017183</td>\n",
              "      <td>-0.073562</td>\n",
              "      <td>-0.053991</td>\n",
              "      <td>-0.042834</td>\n",
              "      <td>-0.038022</td>\n",
              "      <td>-0.043686</td>\n",
              "      <td>-0.011652</td>\n",
              "      <td>-0.021352</td>\n",
              "      <td>-0.075493</td>\n",
              "      <td>-0.049563</td>\n",
              "      <td>-0.014282</td>\n",
              "      <td>-0.047494</td>\n",
              "      <td>-0.070810</td>\n",
              "      <td>0.065717</td>\n",
              "    </tr>\n",
              "    <tr>\n",
              "      <th>Bookcases &amp; shelving</th>\n",
              "      <td>0.015780</td>\n",
              "      <td>-0.174042</td>\n",
              "      <td>0.041184</td>\n",
              "      <td>-0.020910</td>\n",
              "      <td>-0.339817</td>\n",
              "      <td>0.136155</td>\n",
              "      <td>0.009825</td>\n",
              "      <td>-0.056121</td>\n",
              "      <td>-0.102663</td>\n",
              "      <td>1.000000</td>\n",
              "      <td>-0.169717</td>\n",
              "      <td>-0.041184</td>\n",
              "      <td>-0.176313</td>\n",
              "      <td>-0.129405</td>\n",
              "      <td>-0.102663</td>\n",
              "      <td>-0.091131</td>\n",
              "      <td>-0.104705</td>\n",
              "      <td>-0.027927</td>\n",
              "      <td>-0.051177</td>\n",
              "      <td>-0.180942</td>\n",
              "      <td>-0.118792</td>\n",
              "      <td>-0.034231</td>\n",
              "      <td>-0.113833</td>\n",
              "      <td>-0.169717</td>\n",
              "      <td>-0.070075</td>\n",
              "    </tr>\n",
              "    <tr>\n",
              "      <th>Cabinets &amp; cupboards</th>\n",
              "      <td>0.009729</td>\n",
              "      <td>0.030627</td>\n",
              "      <td>0.028406</td>\n",
              "      <td>0.180793</td>\n",
              "      <td>-0.200217</td>\n",
              "      <td>0.050053</td>\n",
              "      <td>-0.021247</td>\n",
              "      <td>-0.038709</td>\n",
              "      <td>-0.070810</td>\n",
              "      <td>-0.169717</td>\n",
              "      <td>1.000000</td>\n",
              "      <td>-0.028406</td>\n",
              "      <td>-0.121608</td>\n",
              "      <td>-0.089254</td>\n",
              "      <td>-0.070810</td>\n",
              "      <td>-0.062856</td>\n",
              "      <td>-0.072218</td>\n",
              "      <td>-0.019262</td>\n",
              "      <td>-0.035298</td>\n",
              "      <td>-0.124801</td>\n",
              "      <td>-0.081935</td>\n",
              "      <td>-0.023610</td>\n",
              "      <td>-0.078514</td>\n",
              "      <td>-0.117059</td>\n",
              "      <td>-0.076654</td>\n",
              "    </tr>\n",
              "    <tr>\n",
              "      <th>Café furniture</th>\n",
              "      <td>-0.090901</td>\n",
              "      <td>-0.050916</td>\n",
              "      <td>0.006893</td>\n",
              "      <td>-0.054156</td>\n",
              "      <td>-0.020481</td>\n",
              "      <td>-0.025897</td>\n",
              "      <td>-0.084420</td>\n",
              "      <td>-0.009393</td>\n",
              "      <td>-0.017183</td>\n",
              "      <td>-0.041184</td>\n",
              "      <td>-0.028406</td>\n",
              "      <td>1.000000</td>\n",
              "      <td>-0.029509</td>\n",
              "      <td>-0.021658</td>\n",
              "      <td>-0.017183</td>\n",
              "      <td>-0.015253</td>\n",
              "      <td>-0.017525</td>\n",
              "      <td>-0.004674</td>\n",
              "      <td>-0.008565</td>\n",
              "      <td>-0.030284</td>\n",
              "      <td>-0.019882</td>\n",
              "      <td>-0.005729</td>\n",
              "      <td>-0.019052</td>\n",
              "      <td>-0.028406</td>\n",
              "      <td>-0.066511</td>\n",
              "    </tr>\n",
              "    <tr>\n",
              "      <th>Chairs</th>\n",
              "      <td>-0.079861</td>\n",
              "      <td>-0.190356</td>\n",
              "      <td>-0.010966</td>\n",
              "      <td>-0.104152</td>\n",
              "      <td>0.106279</td>\n",
              "      <td>-0.119477</td>\n",
              "      <td>-0.278601</td>\n",
              "      <td>-0.040213</td>\n",
              "      <td>-0.073562</td>\n",
              "      <td>-0.176313</td>\n",
              "      <td>-0.121608</td>\n",
              "      <td>-0.029509</td>\n",
              "      <td>1.000000</td>\n",
              "      <td>-0.092723</td>\n",
              "      <td>-0.073562</td>\n",
              "      <td>-0.065298</td>\n",
              "      <td>-0.075025</td>\n",
              "      <td>-0.020011</td>\n",
              "      <td>-0.036670</td>\n",
              "      <td>-0.129651</td>\n",
              "      <td>-0.085119</td>\n",
              "      <td>-0.024527</td>\n",
              "      <td>-0.081565</td>\n",
              "      <td>-0.121608</td>\n",
              "      <td>-0.169894</td>\n",
              "    </tr>\n",
              "    <tr>\n",
              "      <th>Chests of drawers &amp; drawer</th>\n",
              "      <td>-0.007191</td>\n",
              "      <td>-0.063032</td>\n",
              "      <td>0.021658</td>\n",
              "      <td>-0.017464</td>\n",
              "      <td>-0.037143</td>\n",
              "      <td>-0.099187</td>\n",
              "      <td>-0.137115</td>\n",
              "      <td>-0.029514</td>\n",
              "      <td>-0.053991</td>\n",
              "      <td>-0.129405</td>\n",
              "      <td>-0.089254</td>\n",
              "      <td>-0.021658</td>\n",
              "      <td>-0.092723</td>\n",
              "      <td>1.000000</td>\n",
              "      <td>-0.053991</td>\n",
              "      <td>-0.047926</td>\n",
              "      <td>-0.055065</td>\n",
              "      <td>-0.014687</td>\n",
              "      <td>-0.026914</td>\n",
              "      <td>-0.095157</td>\n",
              "      <td>-0.062473</td>\n",
              "      <td>-0.018002</td>\n",
              "      <td>-0.059865</td>\n",
              "      <td>-0.089254</td>\n",
              "      <td>-0.143781</td>\n",
              "    </tr>\n",
              "    <tr>\n",
              "      <th>Children's</th>\n",
              "      <td>0.026100</td>\n",
              "      <td>-0.177456</td>\n",
              "      <td>-0.143715</td>\n",
              "      <td>-0.060646</td>\n",
              "      <td>-0.084127</td>\n",
              "      <td>-0.087602</td>\n",
              "      <td>-0.138215</td>\n",
              "      <td>-0.023415</td>\n",
              "      <td>-0.042834</td>\n",
              "      <td>-0.102663</td>\n",
              "      <td>-0.070810</td>\n",
              "      <td>-0.017183</td>\n",
              "      <td>-0.073562</td>\n",
              "      <td>-0.053991</td>\n",
              "      <td>1.000000</td>\n",
              "      <td>-0.038022</td>\n",
              "      <td>-0.043686</td>\n",
              "      <td>-0.011652</td>\n",
              "      <td>-0.021352</td>\n",
              "      <td>-0.075493</td>\n",
              "      <td>-0.049563</td>\n",
              "      <td>-0.014282</td>\n",
              "      <td>-0.047494</td>\n",
              "      <td>-0.070810</td>\n",
              "      <td>-0.149135</td>\n",
              "    </tr>\n",
              "    <tr>\n",
              "      <th>Nursery furniture</th>\n",
              "      <td>0.009682</td>\n",
              "      <td>-0.121775</td>\n",
              "      <td>-0.128492</td>\n",
              "      <td>-0.039994</td>\n",
              "      <td>-0.074249</td>\n",
              "      <td>-0.048028</td>\n",
              "      <td>-0.104153</td>\n",
              "      <td>-0.020785</td>\n",
              "      <td>-0.038022</td>\n",
              "      <td>-0.091131</td>\n",
              "      <td>-0.062856</td>\n",
              "      <td>-0.015253</td>\n",
              "      <td>-0.065298</td>\n",
              "      <td>-0.047926</td>\n",
              "      <td>-0.038022</td>\n",
              "      <td>1.000000</td>\n",
              "      <td>-0.038778</td>\n",
              "      <td>-0.010343</td>\n",
              "      <td>-0.018954</td>\n",
              "      <td>-0.067013</td>\n",
              "      <td>-0.043995</td>\n",
              "      <td>-0.012677</td>\n",
              "      <td>-0.042158</td>\n",
              "      <td>-0.062856</td>\n",
              "      <td>-0.108502</td>\n",
              "    </tr>\n",
              "    <tr>\n",
              "      <th>Outdoor furniture</th>\n",
              "      <td>-0.003689</td>\n",
              "      <td>-0.037408</td>\n",
              "      <td>0.017525</td>\n",
              "      <td>-0.087932</td>\n",
              "      <td>0.144059</td>\n",
              "      <td>-0.056749</td>\n",
              "      <td>-0.038264</td>\n",
              "      <td>-0.023881</td>\n",
              "      <td>-0.043686</td>\n",
              "      <td>-0.104705</td>\n",
              "      <td>-0.072218</td>\n",
              "      <td>-0.017525</td>\n",
              "      <td>-0.075025</td>\n",
              "      <td>-0.055065</td>\n",
              "      <td>-0.043686</td>\n",
              "      <td>-0.038778</td>\n",
              "      <td>1.000000</td>\n",
              "      <td>-0.011884</td>\n",
              "      <td>-0.021777</td>\n",
              "      <td>-0.076995</td>\n",
              "      <td>-0.050549</td>\n",
              "      <td>-0.014566</td>\n",
              "      <td>-0.048438</td>\n",
              "      <td>-0.072218</td>\n",
              "      <td>0.004951</td>\n",
              "    </tr>\n",
              "    <tr>\n",
              "      <th>Room dividers</th>\n",
              "      <td>-0.014302</td>\n",
              "      <td>0.008455</td>\n",
              "      <td>0.004674</td>\n",
              "      <td>0.058630</td>\n",
              "      <td>-0.029617</td>\n",
              "      <td>0.044266</td>\n",
              "      <td>0.040453</td>\n",
              "      <td>-0.006369</td>\n",
              "      <td>-0.011652</td>\n",
              "      <td>-0.027927</td>\n",
              "      <td>-0.019262</td>\n",
              "      <td>-0.004674</td>\n",
              "      <td>-0.020011</td>\n",
              "      <td>-0.014687</td>\n",
              "      <td>-0.011652</td>\n",
              "      <td>-0.010343</td>\n",
              "      <td>-0.011884</td>\n",
              "      <td>1.000000</td>\n",
              "      <td>-0.005808</td>\n",
              "      <td>-0.020536</td>\n",
              "      <td>-0.013482</td>\n",
              "      <td>-0.003885</td>\n",
              "      <td>-0.012919</td>\n",
              "      <td>-0.019262</td>\n",
              "      <td>0.027312</td>\n",
              "    </tr>\n",
              "    <tr>\n",
              "      <th>Sideboards, buffets &amp; console tables</th>\n",
              "      <td>-0.004046</td>\n",
              "      <td>0.036132</td>\n",
              "      <td>0.008565</td>\n",
              "      <td>0.055814</td>\n",
              "      <td>-0.044155</td>\n",
              "      <td>0.019598</td>\n",
              "      <td>0.036572</td>\n",
              "      <td>-0.011672</td>\n",
              "      <td>-0.021352</td>\n",
              "      <td>-0.051177</td>\n",
              "      <td>-0.035298</td>\n",
              "      <td>-0.008565</td>\n",
              "      <td>-0.036670</td>\n",
              "      <td>-0.026914</td>\n",
              "      <td>-0.021352</td>\n",
              "      <td>-0.018954</td>\n",
              "      <td>-0.021777</td>\n",
              "      <td>-0.005808</td>\n",
              "      <td>1.000000</td>\n",
              "      <td>-0.037633</td>\n",
              "      <td>-0.024707</td>\n",
              "      <td>-0.007119</td>\n",
              "      <td>-0.023675</td>\n",
              "      <td>-0.035298</td>\n",
              "      <td>0.003014</td>\n",
              "    </tr>\n",
              "    <tr>\n",
              "      <th>Sofas &amp; armchairs</th>\n",
              "      <td>0.054726</td>\n",
              "      <td>0.360244</td>\n",
              "      <td>0.030284</td>\n",
              "      <td>0.199792</td>\n",
              "      <td>0.526846</td>\n",
              "      <td>-0.096351</td>\n",
              "      <td>0.307784</td>\n",
              "      <td>-0.041269</td>\n",
              "      <td>-0.075493</td>\n",
              "      <td>-0.180942</td>\n",
              "      <td>-0.124801</td>\n",
              "      <td>-0.030284</td>\n",
              "      <td>-0.129651</td>\n",
              "      <td>-0.095157</td>\n",
              "      <td>-0.075493</td>\n",
              "      <td>-0.067013</td>\n",
              "      <td>-0.076995</td>\n",
              "      <td>-0.020536</td>\n",
              "      <td>-0.037633</td>\n",
              "      <td>1.000000</td>\n",
              "      <td>-0.087354</td>\n",
              "      <td>-0.025171</td>\n",
              "      <td>-0.083706</td>\n",
              "      <td>-0.124801</td>\n",
              "      <td>0.349423</td>\n",
              "    </tr>\n",
              "    <tr>\n",
              "      <th>Tables &amp; desks</th>\n",
              "      <td>0.007252</td>\n",
              "      <td>-0.125353</td>\n",
              "      <td>0.019882</td>\n",
              "      <td>-0.029840</td>\n",
              "      <td>-0.083012</td>\n",
              "      <td>-0.130112</td>\n",
              "      <td>-0.141455</td>\n",
              "      <td>-0.027094</td>\n",
              "      <td>-0.049563</td>\n",
              "      <td>-0.118792</td>\n",
              "      <td>-0.081935</td>\n",
              "      <td>-0.019882</td>\n",
              "      <td>-0.085119</td>\n",
              "      <td>-0.062473</td>\n",
              "      <td>-0.049563</td>\n",
              "      <td>-0.043995</td>\n",
              "      <td>-0.050549</td>\n",
              "      <td>-0.013482</td>\n",
              "      <td>-0.024707</td>\n",
              "      <td>-0.087354</td>\n",
              "      <td>1.000000</td>\n",
              "      <td>-0.016526</td>\n",
              "      <td>-0.054955</td>\n",
              "      <td>-0.081935</td>\n",
              "      <td>-0.163185</td>\n",
              "    </tr>\n",
              "    <tr>\n",
              "      <th>Trolleys</th>\n",
              "      <td>-0.043555</td>\n",
              "      <td>-0.014574</td>\n",
              "      <td>-0.087260</td>\n",
              "      <td>-0.050916</td>\n",
              "      <td>-0.015989</td>\n",
              "      <td>-0.006873</td>\n",
              "      <td>-0.023804</td>\n",
              "      <td>-0.007807</td>\n",
              "      <td>-0.014282</td>\n",
              "      <td>-0.034231</td>\n",
              "      <td>-0.023610</td>\n",
              "      <td>-0.005729</td>\n",
              "      <td>-0.024527</td>\n",
              "      <td>-0.018002</td>\n",
              "      <td>-0.014282</td>\n",
              "      <td>-0.012677</td>\n",
              "      <td>-0.014566</td>\n",
              "      <td>-0.003885</td>\n",
              "      <td>-0.007119</td>\n",
              "      <td>-0.025171</td>\n",
              "      <td>-0.016526</td>\n",
              "      <td>1.000000</td>\n",
              "      <td>-0.015836</td>\n",
              "      <td>-0.023610</td>\n",
              "      <td>-0.023791</td>\n",
              "    </tr>\n",
              "    <tr>\n",
              "      <th>TV &amp; media furniture</th>\n",
              "      <td>0.020272</td>\n",
              "      <td>0.015190</td>\n",
              "      <td>0.019052</td>\n",
              "      <td>0.098762</td>\n",
              "      <td>-0.116071</td>\n",
              "      <td>-0.026414</td>\n",
              "      <td>0.140088</td>\n",
              "      <td>-0.025963</td>\n",
              "      <td>-0.047494</td>\n",
              "      <td>-0.113833</td>\n",
              "      <td>-0.078514</td>\n",
              "      <td>-0.019052</td>\n",
              "      <td>-0.081565</td>\n",
              "      <td>-0.059865</td>\n",
              "      <td>-0.047494</td>\n",
              "      <td>-0.042158</td>\n",
              "      <td>-0.048438</td>\n",
              "      <td>-0.012919</td>\n",
              "      <td>-0.023675</td>\n",
              "      <td>-0.083706</td>\n",
              "      <td>-0.054955</td>\n",
              "      <td>-0.015836</td>\n",
              "      <td>1.000000</td>\n",
              "      <td>-0.078514</td>\n",
              "      <td>0.006940</td>\n",
              "    </tr>\n",
              "    <tr>\n",
              "      <th>Wardrobes</th>\n",
              "      <td>0.034005</td>\n",
              "      <td>0.273380</td>\n",
              "      <td>0.028406</td>\n",
              "      <td>-0.180555</td>\n",
              "      <td>0.071930</td>\n",
              "      <td>0.419406</td>\n",
              "      <td>0.214670</td>\n",
              "      <td>-0.038709</td>\n",
              "      <td>-0.070810</td>\n",
              "      <td>-0.169717</td>\n",
              "      <td>-0.117059</td>\n",
              "      <td>-0.028406</td>\n",
              "      <td>-0.121608</td>\n",
              "      <td>-0.089254</td>\n",
              "      <td>-0.070810</td>\n",
              "      <td>-0.062856</td>\n",
              "      <td>-0.072218</td>\n",
              "      <td>-0.019262</td>\n",
              "      <td>-0.035298</td>\n",
              "      <td>-0.124801</td>\n",
              "      <td>-0.081935</td>\n",
              "      <td>-0.023610</td>\n",
              "      <td>-0.078514</td>\n",
              "      <td>1.000000</td>\n",
              "      <td>0.365665</td>\n",
              "    </tr>\n",
              "    <tr>\n",
              "      <th>Dimension</th>\n",
              "      <td>0.118809</td>\n",
              "      <td>0.841560</td>\n",
              "      <td>0.118996</td>\n",
              "      <td>0.116498</td>\n",
              "      <td>0.633115</td>\n",
              "      <td>0.669698</td>\n",
              "      <td>0.831022</td>\n",
              "      <td>-0.078967</td>\n",
              "      <td>0.065717</td>\n",
              "      <td>-0.070075</td>\n",
              "      <td>-0.076654</td>\n",
              "      <td>-0.066511</td>\n",
              "      <td>-0.169894</td>\n",
              "      <td>-0.143781</td>\n",
              "      <td>-0.149135</td>\n",
              "      <td>-0.108502</td>\n",
              "      <td>0.004951</td>\n",
              "      <td>0.027312</td>\n",
              "      <td>0.003014</td>\n",
              "      <td>0.349423</td>\n",
              "      <td>-0.163185</td>\n",
              "      <td>-0.023791</td>\n",
              "      <td>0.006940</td>\n",
              "      <td>0.365665</td>\n",
              "      <td>1.000000</td>\n",
              "    </tr>\n",
              "  </tbody>\n",
              "</table>\n",
              "</div>"
            ],
            "text/plain": [
              "                                       item_id     price  ...  Wardrobes  Dimension\n",
              "item_id                               1.000000  0.097478  ...   0.034005   0.118809\n",
              "price                                 0.097478  1.000000  ...   0.273380   0.841560\n",
              "sellable_online                      -0.001662  0.168061  ...   0.028406   0.118996\n",
              "other_colors                          0.045903  0.213422  ...  -0.180555   0.116498\n",
              "depth                                 0.074383  0.545825  ...   0.071930   0.633115\n",
              "height                                0.068180  0.494220  ...   0.419406   0.669698\n",
              "width                                 0.123698  0.772201  ...   0.214670   0.831022\n",
              "Bar furniture                        -0.084082 -0.075085  ...  -0.038709  -0.078967\n",
              "Beds                                 -0.007354  0.174272  ...  -0.070810   0.065717\n",
              "Bookcases & shelving                  0.015780 -0.174042  ...  -0.169717  -0.070075\n",
              "Cabinets & cupboards                  0.009729  0.030627  ...  -0.117059  -0.076654\n",
              "Café furniture                       -0.090901 -0.050916  ...  -0.028406  -0.066511\n",
              "Chairs                               -0.079861 -0.190356  ...  -0.121608  -0.169894\n",
              "Chests of drawers & drawer           -0.007191 -0.063032  ...  -0.089254  -0.143781\n",
              "Children's                            0.026100 -0.177456  ...  -0.070810  -0.149135\n",
              "Nursery furniture                     0.009682 -0.121775  ...  -0.062856  -0.108502\n",
              "Outdoor furniture                    -0.003689 -0.037408  ...  -0.072218   0.004951\n",
              "Room dividers                        -0.014302  0.008455  ...  -0.019262   0.027312\n",
              "Sideboards, buffets & console tables -0.004046  0.036132  ...  -0.035298   0.003014\n",
              "Sofas & armchairs                     0.054726  0.360244  ...  -0.124801   0.349423\n",
              "Tables & desks                        0.007252 -0.125353  ...  -0.081935  -0.163185\n",
              "Trolleys                             -0.043555 -0.014574  ...  -0.023610  -0.023791\n",
              "TV & media furniture                  0.020272  0.015190  ...  -0.078514   0.006940\n",
              "Wardrobes                             0.034005  0.273380  ...   1.000000   0.365665\n",
              "Dimension                             0.118809  0.841560  ...   0.365665   1.000000\n",
              "\n",
              "[25 rows x 25 columns]"
            ]
          },
          "metadata": {},
          "execution_count": 100
        }
      ]
    },
    {
      "cell_type": "code",
      "metadata": {
        "colab": {
          "base_uri": "https://localhost:8080/",
          "height": 912
        },
        "id": "oLLiqkFCSUK4",
        "outputId": "e54ec435-9976-4ae5-f313-0226122ce6eb"
      },
      "source": [
        "df_corr = df.corr()\n",
        "mask = np.zeros_like(df_corr)\n",
        "mask[np.triu_indices_from(mask)] = True\n",
        "\n",
        "fig, ax = plt.subplots(figsize=(15, 12))\n",
        "ax = sns.heatmap(df_corr,mask=mask, \n",
        "                 annot=True, annot_kws={'size':8}, fmt=\".2f\")\n",
        "plt.title(\"Pearson Correlation Heatmap\")\n",
        "plt.show()"
      ],
      "execution_count": null,
      "outputs": [
        {
          "output_type": "display_data",
          "data": {
            "image/png": "[encoded data removed]",
            "text/plain": [
              "<Figure size 1080x864 with 2 Axes>"
            ]
          },
          "metadata": {}
        }
      ]
    },
    {
      "cell_type": "markdown",
      "metadata": {
        "id": "r4Fy-j2rOhnn"
      },
      "source": [
        "Width dan Dimension memiliki korelasi yang **cukup baik** dengan price sebagai variabel target yaitu **0.77** dan **0.84**.\n",
        "\n",
        "Sedangkan feature Dimension memiliki korelasi yang **sangat baik** dengan width yaitu sebesar **0.83**."
      ]
    },
    {
      "cell_type": "code",
      "metadata": {
        "colab": {
          "base_uri": "https://localhost:8080/",
          "height": 272
        },
        "id": "22xSPLbEOPIu",
        "outputId": "e200b8ae-7306-49b6-b398-44dab388e478"
      },
      "source": [
        "# Creating a matrix using price, width, dimension as rows and columns\n",
        "df[['price','width','Dimension']].corr()\n",
        "\n",
        "#plot the correlation matrix\n",
        "sns.heatmap(df[['price','width','Dimension']].corr(), annot=True, cmap = 'Reds')\n",
        "plt.show()"
      ],
      "execution_count": null,
      "outputs": [
        {
          "output_type": "display_data",
          "data": {
            "image/png": "[encoded data removed]",
            "text/plain": [
              "<Figure size 432x288 with 2 Axes>"
            ]
          },
          "metadata": {}
        }
      ]
    },
    {
      "cell_type": "markdown",
      "metadata": {
        "id": "SQMjBNOcU8CO"
      },
      "source": [
        "Karena variabel price berkorelasi cukup baik dengan lebih dari 1 variabel yaitu Dimension dan width, maka salah satu harus didrop untuk menghindari terjadinya multikolinieritas."
      ]
    },
    {
      "cell_type": "markdown",
      "metadata": {
        "id": "fHa_VPXnkZp3"
      },
      "source": [
        "#Modeling"
      ]
    },
    {
      "cell_type": "markdown",
      "metadata": {
        "id": "02FBRgX8yxk7"
      },
      "source": [
        "##Model Selection"
      ]
    },
    {
      "cell_type": "code",
      "metadata": {
        "colab": {
          "base_uri": "https://localhost:8080/"
        },
        "id": "hqLqYbO3Gmf6",
        "outputId": "75b92eaa-5a2b-4af9-c36f-df6912779899"
      },
      "source": [
        "df.columns"
      ],
      "execution_count": null,
      "outputs": [
        {
          "output_type": "execute_result",
          "data": {
            "text/plain": [
              "Index(['item_id', 'price', 'sellable_online', 'other_colors', 'depth',\n",
              "       'height', 'width', 'Bar furniture', 'Beds', 'Bookcases & shelving',\n",
              "       'Cabinets & cupboards', 'Café furniture', 'Chairs',\n",
              "       'Chests of drawers & drawer', 'Children's', 'Nursery furniture',\n",
              "       'Outdoor furniture', 'Room dividers',\n",
              "       'Sideboards, buffets & console tables', 'Sofas & armchairs',\n",
              "       'Tables & desks', 'Trolleys', 'TV & media furniture', 'Wardrobes',\n",
              "       'Dimension'],\n",
              "      dtype='object')"
            ]
          },
          "metadata": {},
          "execution_count": 103
        }
      ]
    },
    {
      "cell_type": "code",
      "metadata": {
        "id": "vgDagJUlqjPo"
      },
      "source": [
        "#Split features and target values \n",
        "\n",
        "X = df.drop(['price','item_id', 'width'], axis=1)\n",
        "y = df['price']"
      ],
      "execution_count": null,
      "outputs": []
    },
    {
      "cell_type": "code",
      "metadata": {
        "id": "nnuTko2qq_wq"
      },
      "source": [
        "from sklearn.linear_model import RidgeCV, LassoCV, LinearRegression\n",
        "from sklearn.model_selection import cross_val_score"
      ],
      "execution_count": null,
      "outputs": []
    },
    {
      "cell_type": "code",
      "metadata": {
        "id": "v4vb8k4orQsd"
      },
      "source": [
        "def rmse_cv(model):\n",
        "  return np.sqrt(-cross_val_score(model, X, y, scoring= 'neg_mean_squared_error', cv = 5))"
      ],
      "execution_count": null,
      "outputs": []
    },
    {
      "cell_type": "code",
      "metadata": {
        "colab": {
          "base_uri": "https://localhost:8080/"
        },
        "id": "Tj1wevzasFgN",
        "outputId": "1fe0b05f-4968-4bf0-9dcd-f2acc061d100"
      },
      "source": [
        "# Model 1: Linear Regression\n",
        "model_lr = LinearRegression()\n",
        "rmse_cv(model_lr).mean()"
      ],
      "execution_count": null,
      "outputs": [
        {
          "output_type": "execute_result",
          "data": {
            "text/plain": [
              "0.6374896103159187"
            ]
          },
          "metadata": {},
          "execution_count": 107
        }
      ]
    },
    {
      "cell_type": "code",
      "metadata": {
        "colab": {
          "base_uri": "https://localhost:8080/"
        },
        "id": "f_XXI3DMsHR3",
        "outputId": "34dba0c3-e7b4-419e-c1ee-c812c441c016"
      },
      "source": [
        "# Model 2: Ridge Regression\n",
        "model_ridge = RidgeCV(alphas=[1, 0.1, 0.01, 0.005])\n",
        "rmse_cv(model_ridge).mean()"
      ],
      "execution_count": null,
      "outputs": [
        {
          "output_type": "execute_result",
          "data": {
            "text/plain": [
              "0.6358979995432679"
            ]
          },
          "metadata": {},
          "execution_count": 108
        }
      ]
    },
    {
      "cell_type": "code",
      "metadata": {
        "colab": {
          "base_uri": "https://localhost:8080/"
        },
        "id": "9EnQkl_9s5lK",
        "outputId": "6fe76041-db4a-4108-d1d4-751c3d9a8d3b"
      },
      "source": [
        "# Model 3: Lasso Regression\n",
        "model_lasso = LassoCV(alphas=[1, 0.1, 0.01, 0.005])\n",
        "rmse_cv(model_lasso).mean()"
      ],
      "execution_count": null,
      "outputs": [
        {
          "output_type": "execute_result",
          "data": {
            "text/plain": [
              "0.6416295867971733"
            ]
          },
          "metadata": {},
          "execution_count": 109
        }
      ]
    },
    {
      "cell_type": "code",
      "metadata": {
        "id": "8Hy6-qNetaE_"
      },
      "source": [
        "from sklearn.ensemble import RandomForestRegressor"
      ],
      "execution_count": null,
      "outputs": []
    },
    {
      "cell_type": "code",
      "metadata": {
        "colab": {
          "base_uri": "https://localhost:8080/"
        },
        "id": "IFdj7tk7uayN",
        "outputId": "8aa6c80d-cec0-4d37-8cae-589ce9fac635"
      },
      "source": [
        "# Model 4: Random Forest Regression\n",
        "model_rf = RandomForestRegressor()\n",
        "rmse_cv(model_rf).mean()"
      ],
      "execution_count": null,
      "outputs": [
        {
          "output_type": "execute_result",
          "data": {
            "text/plain": [
              "0.5613822546832405"
            ]
          },
          "metadata": {},
          "execution_count": 111
        }
      ]
    },
    {
      "cell_type": "code",
      "metadata": {
        "colab": {
          "base_uri": "https://localhost:8080/"
        },
        "id": "pj7ui__1wE1K",
        "outputId": "29e1a40e-7c4a-4d6a-f1e5-fe29512ce0b6"
      },
      "source": [
        "from sklearn.svm import SVR\n",
        "\n",
        "# Model 5: Support Vector Regression\n",
        "model_svr = SVR()\n",
        "rmse_cv(model_svr).mean()"
      ],
      "execution_count": null,
      "outputs": [
        {
          "output_type": "execute_result",
          "data": {
            "text/plain": [
              "0.6572083475991083"
            ]
          },
          "metadata": {},
          "execution_count": 112
        }
      ]
    },
    {
      "cell_type": "code",
      "metadata": {
        "colab": {
          "base_uri": "https://localhost:8080/"
        },
        "id": "sEoZJkPowYOu",
        "outputId": "24f2d804-4987-477f-9bfd-ad585cb2b0bd"
      },
      "source": [
        "from sklearn.tree import DecisionTreeRegressor\n",
        "\n",
        "# Model 6: Decision Tree Regression \n",
        "model_dt = DecisionTreeRegressor()\n",
        "rmse_cv(model_dt).mean()"
      ],
      "execution_count": null,
      "outputs": [
        {
          "output_type": "execute_result",
          "data": {
            "text/plain": [
              "0.7342841928568715"
            ]
          },
          "metadata": {},
          "execution_count": 113
        }
      ]
    },
    {
      "cell_type": "markdown",
      "metadata": {
        "id": "mI5YFl-vxkQU"
      },
      "source": [
        "Dari 6 model diatas dapat diketahui bahwa random forest merupakan model yang paling baik untuk digunakan karena memiliki nilai RMSE yang paling kecil."
      ]
    },
    {
      "cell_type": "markdown",
      "metadata": {
        "id": "9aQ65Qzl24_w"
      },
      "source": [
        "##Random Forest Regression"
      ]
    },
    {
      "cell_type": "code",
      "metadata": {
        "id": "EBGeonWp0wni"
      },
      "source": [
        "from sklearn.model_selection import train_test_split\n",
        "\n",
        "X = df.drop(['price','item_id', 'width'], axis=1)\n",
        "y = df['price']\n",
        "\n",
        "X_train, X_test, y_train, y_test = train_test_split(X, y, test_size = 0.2, random_state=0)"
      ],
      "execution_count": null,
      "outputs": []
    },
    {
      "cell_type": "code",
      "metadata": {
        "colab": {
          "base_uri": "https://localhost:8080/"
        },
        "id": "j0BXToG145bS",
        "outputId": "d1552887-b056-4b36-c097-37bb9fbd0cdb"
      },
      "source": [
        "# Fitting Random Forest Regression to the dataset\n",
        "from sklearn.ensemble import RandomForestRegressor\n",
        "regressor = RandomForestRegressor(n_estimators = 300, random_state = 0)\n",
        "regressor.fit(X_train, y_train)"
      ],
      "execution_count": null,
      "outputs": [
        {
          "output_type": "execute_result",
          "data": {
            "text/plain": [
              "RandomForestRegressor(n_estimators=300, random_state=0)"
            ]
          },
          "metadata": {},
          "execution_count": 120
        }
      ]
    },
    {
      "cell_type": "code",
      "metadata": {
        "id": "fp0szPOK7MGx"
      },
      "source": [
        "y_pred = regressor.predict(X_test)"
      ],
      "execution_count": null,
      "outputs": []
    },
    {
      "cell_type": "code",
      "metadata": {
        "id": "_tvmLr_vxaPU"
      },
      "source": [
        "compare = pd.DataFrame({'Real Values':y_test, 'RF Regression':y_pred,})"
      ],
      "execution_count": null,
      "outputs": []
    },
    {
      "cell_type": "code",
      "metadata": {
        "colab": {
          "base_uri": "https://localhost:8080/",
          "height": 424
        },
        "id": "DoYVzZ-VxhAi",
        "outputId": "ff0ea4f5-3c22-4493-ff37-27e7fb2a7011"
      },
      "source": [
        "compare"
      ],
      "execution_count": null,
      "outputs": [
        {
          "output_type": "execute_result",
          "data": {
            "text/html": [
              "<div>\n",
              "<style scoped>\n",
              "    .dataframe tbody tr th:only-of-type {\n",
              "        vertical-align: middle;\n",
              "    }\n",
              "\n",
              "    .dataframe tbody tr th {\n",
              "        vertical-align: top;\n",
              "    }\n",
              "\n",
              "    .dataframe thead th {\n",
              "        text-align: right;\n",
              "    }\n",
              "</style>\n",
              "<table border=\"1\" class=\"dataframe\">\n",
              "  <thead>\n",
              "    <tr style=\"text-align: right;\">\n",
              "      <th></th>\n",
              "      <th>Real Values</th>\n",
              "      <th>RF Regression</th>\n",
              "    </tr>\n",
              "  </thead>\n",
              "  <tbody>\n",
              "    <tr>\n",
              "      <th>1380</th>\n",
              "      <td>5.620401</td>\n",
              "      <td>5.571846</td>\n",
              "    </tr>\n",
              "    <tr>\n",
              "      <th>1079</th>\n",
              "      <td>7.208600</td>\n",
              "      <td>7.780204</td>\n",
              "    </tr>\n",
              "    <tr>\n",
              "      <th>2334</th>\n",
              "      <td>7.276556</td>\n",
              "      <td>7.223327</td>\n",
              "    </tr>\n",
              "    <tr>\n",
              "      <th>227</th>\n",
              "      <td>8.485083</td>\n",
              "      <td>8.215008</td>\n",
              "    </tr>\n",
              "    <tr>\n",
              "      <th>2496</th>\n",
              "      <td>5.860786</td>\n",
              "      <td>7.481097</td>\n",
              "    </tr>\n",
              "    <tr>\n",
              "      <th>...</th>\n",
              "      <td>...</td>\n",
              "      <td>...</td>\n",
              "    </tr>\n",
              "    <tr>\n",
              "      <th>3476</th>\n",
              "      <td>7.926964</td>\n",
              "      <td>7.733231</td>\n",
              "    </tr>\n",
              "    <tr>\n",
              "      <th>1503</th>\n",
              "      <td>5.170484</td>\n",
              "      <td>5.525668</td>\n",
              "    </tr>\n",
              "    <tr>\n",
              "      <th>2635</th>\n",
              "      <td>5.624018</td>\n",
              "      <td>6.289080</td>\n",
              "    </tr>\n",
              "    <tr>\n",
              "      <th>1827</th>\n",
              "      <td>5.564520</td>\n",
              "      <td>5.486148</td>\n",
              "    </tr>\n",
              "    <tr>\n",
              "      <th>1414</th>\n",
              "      <td>7.099202</td>\n",
              "      <td>6.754665</td>\n",
              "    </tr>\n",
              "  </tbody>\n",
              "</table>\n",
              "<p>380 rows × 2 columns</p>\n",
              "</div>"
            ],
            "text/plain": [
              "      Real Values  RF Regression\n",
              "1380     5.620401       5.571846\n",
              "1079     7.208600       7.780204\n",
              "2334     7.276556       7.223327\n",
              "227      8.485083       8.215008\n",
              "2496     5.860786       7.481097\n",
              "...           ...            ...\n",
              "3476     7.926964       7.733231\n",
              "1503     5.170484       5.525668\n",
              "2635     5.624018       6.289080\n",
              "1827     5.564520       5.486148\n",
              "1414     7.099202       6.754665\n",
              "\n",
              "[380 rows x 2 columns]"
            ]
          },
          "metadata": {},
          "execution_count": 123
        }
      ]
    },
    {
      "cell_type": "markdown",
      "metadata": {
        "id": "2wacHVSmZkXc"
      },
      "source": [
        "##Hyperparameter Tuning"
      ]
    },
    {
      "cell_type": "markdown",
      "metadata": {
        "id": "Npa6IruEjU6B"
      },
      "source": [
        "Random Search Cross Validation in Scikit-Learn"
      ]
    },
    {
      "cell_type": "code",
      "metadata": {
        "colab": {
          "base_uri": "https://localhost:8080/"
        },
        "id": "UGM5dJmoZl4N",
        "outputId": "986166e0-30d5-4896-c139-7aaa8e144a5e"
      },
      "source": [
        "from sklearn.ensemble import RandomForestRegressor\n",
        "rf = RandomForestRegressor(random_state = 42)\n",
        "from pprint import pprint\n",
        "\n",
        "# Look at parameters used by our current forest\n",
        "print('Parameters currently in use:\\n')\n",
        "pprint(rf.get_params())"
      ],
      "execution_count": null,
      "outputs": [
        {
          "output_type": "stream",
          "name": "stdout",
          "text": [
            "Parameters currently in use:\n",
            "\n",
            "{'bootstrap': True,\n",
            " 'ccp_alpha': 0.0,\n",
            " 'criterion': 'squared_error',\n",
            " 'max_depth': None,\n",
            " 'max_features': 'auto',\n",
            " 'max_leaf_nodes': None,\n",
            " 'max_samples': None,\n",
            " 'min_impurity_decrease': 0.0,\n",
            " 'min_samples_leaf': 1,\n",
            " 'min_samples_split': 2,\n",
            " 'min_weight_fraction_leaf': 0.0,\n",
            " 'n_estimators': 100,\n",
            " 'n_jobs': None,\n",
            " 'oob_score': False,\n",
            " 'random_state': 42,\n",
            " 'verbose': 0,\n",
            " 'warm_start': False}\n"
          ]
        }
      ]
    },
    {
      "cell_type": "markdown",
      "metadata": {
        "id": "v_NZSyykaAYx"
      },
      "source": [
        "n_estimators = number of trees in the foreset\n",
        "\n",
        "max_features = max number of features considered for splitting a node\n",
        "\n",
        "max_depth = max number of levels in each decision tree\n",
        "\n",
        "min_samples_split = min number of data points placed in a node before the node is split\n",
        "\n",
        "min_samples_leaf = min number of data points allowed in a leaf node\n",
        "bootstrap = method for sampling data points (with or without replacement)"
      ]
    },
    {
      "cell_type": "code",
      "metadata": {
        "colab": {
          "base_uri": "https://localhost:8080/"
        },
        "id": "nIcLYqu9aG8V",
        "outputId": "d7e51db0-768a-4d31-d68e-5ef09213061c"
      },
      "source": [
        "from sklearn.model_selection import RandomizedSearchCV\n",
        "\n",
        "# Number of trees in random forest\n",
        "n_estimators = [int(x) for x in np.linspace(start = 100, stop = 2000, num = 100)]\n",
        "# Number of features to consider at every split\n",
        "max_features = ['auto', 'sqrt']\n",
        "# Maximum number of levels in tree\n",
        "max_depth = [int(x) for x in np.linspace(10, 110, num = 11)]\n",
        "max_depth.append(None)\n",
        "# Minimum number of samples required to split a node\n",
        "min_samples_split = [2, 5, 10]\n",
        "# Minimum number of samples required at each leaf node\n",
        "min_samples_leaf = [1, 2, 4]\n",
        "# Method of selecting samples for training each tree\n",
        "bootstrap = [True, False]\n",
        "# Create the random grid\n",
        "random_grid = {'n_estimators': n_estimators,\n",
        "               'max_features': max_features,\n",
        "               'max_depth': max_depth,\n",
        "               'min_samples_split': min_samples_split,\n",
        "               'min_samples_leaf': min_samples_leaf,\n",
        "               'bootstrap': bootstrap}\n",
        "pprint(random_grid)"
      ],
      "execution_count": null,
      "outputs": [
        {
          "output_type": "stream",
          "name": "stdout",
          "text": [
            "{'bootstrap': [True, False],\n",
            " 'max_depth': [10, 20, 30, 40, 50, 60, 70, 80, 90, 100, 110, None],\n",
            " 'max_features': ['auto', 'sqrt'],\n",
            " 'min_samples_leaf': [1, 2, 4],\n",
            " 'min_samples_split': [2, 5, 10],\n",
            " 'n_estimators': [100,\n",
            "                  119,\n",
            "                  138,\n",
            "                  157,\n",
            "                  176,\n",
            "                  195,\n",
            "                  215,\n",
            "                  234,\n",
            "                  253,\n",
            "                  272,\n",
            "                  291,\n",
            "                  311,\n",
            "                  330,\n",
            "                  349,\n",
            "                  368,\n",
            "                  387,\n",
            "                  407,\n",
            "                  426,\n",
            "                  445,\n",
            "                  464,\n",
            "                  483,\n",
            "                  503,\n",
            "                  522,\n",
            "                  541,\n",
            "                  560,\n",
            "                  579,\n",
            "                  598,\n",
            "                  618,\n",
            "                  637,\n",
            "                  656,\n",
            "                  675,\n",
            "                  694,\n",
            "                  714,\n",
            "                  733,\n",
            "                  752,\n",
            "                  771,\n",
            "                  790,\n",
            "                  810,\n",
            "                  829,\n",
            "                  848,\n",
            "                  867,\n",
            "                  886,\n",
            "                  906,\n",
            "                  925,\n",
            "                  944,\n",
            "                  963,\n",
            "                  982,\n",
            "                  1002,\n",
            "                  1021,\n",
            "                  1040,\n",
            "                  1059,\n",
            "                  1078,\n",
            "                  1097,\n",
            "                  1117,\n",
            "                  1136,\n",
            "                  1155,\n",
            "                  1174,\n",
            "                  1193,\n",
            "                  1213,\n",
            "                  1232,\n",
            "                  1251,\n",
            "                  1270,\n",
            "                  1289,\n",
            "                  1309,\n",
            "                  1328,\n",
            "                  1347,\n",
            "                  1366,\n",
            "                  1385,\n",
            "                  1405,\n",
            "                  1424,\n",
            "                  1443,\n",
            "                  1462,\n",
            "                  1481,\n",
            "                  1501,\n",
            "                  1520,\n",
            "                  1539,\n",
            "                  1558,\n",
            "                  1577,\n",
            "                  1596,\n",
            "                  1616,\n",
            "                  1635,\n",
            "                  1654,\n",
            "                  1673,\n",
            "                  1692,\n",
            "                  1712,\n",
            "                  1731,\n",
            "                  1750,\n",
            "                  1769,\n",
            "                  1788,\n",
            "                  1808,\n",
            "                  1827,\n",
            "                  1846,\n",
            "                  1865,\n",
            "                  1884,\n",
            "                  1904,\n",
            "                  1923,\n",
            "                  1942,\n",
            "                  1961,\n",
            "                  1980,\n",
            "                  2000]}\n"
          ]
        }
      ]
    },
    {
      "cell_type": "markdown",
      "metadata": {
        "id": "W94fL9CdsfaH"
      },
      "source": [
        "###Best parameter"
      ]
    },
    {
      "cell_type": "code",
      "metadata": {
        "colab": {
          "base_uri": "https://localhost:8080/"
        },
        "id": "18MZ0wwybgSb",
        "outputId": "0f3ac235-0777-4aba-bfe5-f52e7127fe28"
      },
      "source": [
        "# Use the random grid to search for best hyperparameters\n",
        "# First create the base model to tune\n",
        "rf = RandomForestRegressor()\n",
        "# Random search of parameters, using 3 fold cross validation, \n",
        "# search across 100 different combinations, and use all available cores\n",
        "rf_random = RandomizedSearchCV(estimator = rf, param_distributions = random_grid, n_iter = 100, cv = 3, verbose=2, random_state=42)\n",
        "# Fit the random search model\n",
        "rf_random.fit(X_train, y_train)"
      ],
      "execution_count": null,
      "outputs": [
        {
          "output_type": "stream",
          "name": "stdout",
          "text": [
            "Fitting 3 folds for each of 100 candidates, totalling 300 fits\n",
            "[CV] END bootstrap=True, max_depth=90, max_features=sqrt, min_samples_leaf=2, min_samples_split=5, n_estimators=1923; total time=   3.6s\n",
            "[CV] END bootstrap=True, max_depth=90, max_features=sqrt, min_samples_leaf=2, min_samples_split=5, n_estimators=1923; total time=   3.5s\n",
            "[CV] END bootstrap=True, max_depth=90, max_features=sqrt, min_samples_leaf=2, min_samples_split=5, n_estimators=1923; total time=   3.7s\n",
            "[CV] END bootstrap=True, max_depth=10, max_features=auto, min_samples_leaf=4, min_samples_split=10, n_estimators=1251; total time=   3.5s\n",
            "[CV] END bootstrap=True, max_depth=10, max_features=auto, min_samples_leaf=4, min_samples_split=10, n_estimators=1251; total time=   3.5s\n",
            "[CV] END bootstrap=True, max_depth=10, max_features=auto, min_samples_leaf=4, min_samples_split=10, n_estimators=1251; total time=   3.5s\n",
            "[CV] END bootstrap=False, max_depth=100, max_features=auto, min_samples_leaf=2, min_samples_split=2, n_estimators=1213; total time=   5.0s\n",
            "[CV] END bootstrap=False, max_depth=100, max_features=auto, min_samples_leaf=2, min_samples_split=2, n_estimators=1213; total time=   5.1s\n",
            "[CV] END bootstrap=False, max_depth=100, max_features=auto, min_samples_leaf=2, min_samples_split=2, n_estimators=1213; total time=   5.3s\n",
            "[CV] END bootstrap=True, max_depth=70, max_features=auto, min_samples_leaf=2, min_samples_split=5, n_estimators=1712; total time=   5.6s\n",
            "[CV] END bootstrap=True, max_depth=70, max_features=auto, min_samples_leaf=2, min_samples_split=5, n_estimators=1712; total time=   5.6s\n",
            "[CV] END bootstrap=True, max_depth=70, max_features=auto, min_samples_leaf=2, min_samples_split=5, n_estimators=1712; total time=   5.6s\n",
            "[CV] END bootstrap=True, max_depth=40, max_features=auto, min_samples_leaf=4, min_samples_split=10, n_estimators=1347; total time=   3.8s\n",
            "[CV] END bootstrap=True, max_depth=40, max_features=auto, min_samples_leaf=4, min_samples_split=10, n_estimators=1347; total time=   3.9s\n",
            "[CV] END bootstrap=True, max_depth=40, max_features=auto, min_samples_leaf=4, min_samples_split=10, n_estimators=1347; total time=   3.8s\n",
            "[CV] END bootstrap=True, max_depth=100, max_features=auto, min_samples_leaf=4, min_samples_split=2, n_estimators=1059; total time=   3.0s\n",
            "[CV] END bootstrap=True, max_depth=100, max_features=auto, min_samples_leaf=4, min_samples_split=2, n_estimators=1059; total time=   3.1s\n",
            "[CV] END bootstrap=True, max_depth=100, max_features=auto, min_samples_leaf=4, min_samples_split=2, n_estimators=1059; total time=   3.1s\n",
            "[CV] END bootstrap=False, max_depth=90, max_features=sqrt, min_samples_leaf=1, min_samples_split=10, n_estimators=1904; total time=   3.4s\n",
            "[CV] END bootstrap=False, max_depth=90, max_features=sqrt, min_samples_leaf=1, min_samples_split=10, n_estimators=1904; total time=   3.4s\n",
            "[CV] END bootstrap=False, max_depth=90, max_features=sqrt, min_samples_leaf=1, min_samples_split=10, n_estimators=1904; total time=   3.3s\n",
            "[CV] END bootstrap=False, max_depth=10, max_features=auto, min_samples_leaf=2, min_samples_split=2, n_estimators=1289; total time=   4.6s\n",
            "[CV] END bootstrap=False, max_depth=10, max_features=auto, min_samples_leaf=2, min_samples_split=2, n_estimators=1289; total time=   4.7s\n",
            "[CV] END bootstrap=False, max_depth=10, max_features=auto, min_samples_leaf=2, min_samples_split=2, n_estimators=1289; total time=   4.7s\n",
            "[CV] END bootstrap=True, max_depth=90, max_features=sqrt, min_samples_leaf=4, min_samples_split=5, n_estimators=541; total time=   0.9s\n",
            "[CV] END bootstrap=True, max_depth=90, max_features=sqrt, min_samples_leaf=4, min_samples_split=5, n_estimators=541; total time=   0.9s\n",
            "[CV] END bootstrap=True, max_depth=90, max_features=sqrt, min_samples_leaf=4, min_samples_split=5, n_estimators=541; total time=   0.9s\n",
            "[CV] END bootstrap=False, max_depth=110, max_features=sqrt, min_samples_leaf=2, min_samples_split=10, n_estimators=1827; total time=   3.0s\n",
            "[CV] END bootstrap=False, max_depth=110, max_features=sqrt, min_samples_leaf=2, min_samples_split=10, n_estimators=1827; total time=   3.0s\n",
            "[CV] END bootstrap=False, max_depth=110, max_features=sqrt, min_samples_leaf=2, min_samples_split=10, n_estimators=1827; total time=   3.0s\n",
            "[CV] END bootstrap=True, max_depth=10, max_features=sqrt, min_samples_leaf=4, min_samples_split=5, n_estimators=1731; total time=   2.9s\n",
            "[CV] END bootstrap=True, max_depth=10, max_features=sqrt, min_samples_leaf=4, min_samples_split=5, n_estimators=1731; total time=   2.9s\n",
            "[CV] END bootstrap=True, max_depth=10, max_features=sqrt, min_samples_leaf=4, min_samples_split=5, n_estimators=1731; total time=   2.9s\n",
            "[CV] END bootstrap=True, max_depth=10, max_features=auto, min_samples_leaf=4, min_samples_split=5, n_estimators=1424; total time=   4.0s\n",
            "[CV] END bootstrap=True, max_depth=10, max_features=auto, min_samples_leaf=4, min_samples_split=5, n_estimators=1424; total time=   4.1s\n",
            "[CV] END bootstrap=True, max_depth=10, max_features=auto, min_samples_leaf=4, min_samples_split=5, n_estimators=1424; total time=   4.0s\n",
            "[CV] END bootstrap=True, max_depth=20, max_features=auto, min_samples_leaf=4, min_samples_split=2, n_estimators=733; total time=   2.1s\n",
            "[CV] END bootstrap=True, max_depth=20, max_features=auto, min_samples_leaf=4, min_samples_split=2, n_estimators=733; total time=   2.2s\n",
            "[CV] END bootstrap=True, max_depth=20, max_features=auto, min_samples_leaf=4, min_samples_split=2, n_estimators=733; total time=   2.1s\n",
            "[CV] END bootstrap=True, max_depth=30, max_features=sqrt, min_samples_leaf=4, min_samples_split=10, n_estimators=311; total time=   0.5s\n",
            "[CV] END bootstrap=True, max_depth=30, max_features=sqrt, min_samples_leaf=4, min_samples_split=10, n_estimators=311; total time=   0.5s\n",
            "[CV] END bootstrap=True, max_depth=30, max_features=sqrt, min_samples_leaf=4, min_samples_split=10, n_estimators=311; total time=   0.5s\n",
            "[CV] END bootstrap=False, max_depth=100, max_features=auto, min_samples_leaf=1, min_samples_split=2, n_estimators=464; total time=   2.4s\n",
            "[CV] END bootstrap=False, max_depth=100, max_features=auto, min_samples_leaf=1, min_samples_split=2, n_estimators=464; total time=   2.3s\n",
            "[CV] END bootstrap=False, max_depth=100, max_features=auto, min_samples_leaf=1, min_samples_split=2, n_estimators=464; total time=   2.4s\n",
            "[CV] END bootstrap=False, max_depth=100, max_features=sqrt, min_samples_leaf=2, min_samples_split=5, n_estimators=1788; total time=   3.2s\n",
            "[CV] END bootstrap=False, max_depth=100, max_features=sqrt, min_samples_leaf=2, min_samples_split=5, n_estimators=1788; total time=   3.2s\n",
            "[CV] END bootstrap=False, max_depth=100, max_features=sqrt, min_samples_leaf=2, min_samples_split=5, n_estimators=1788; total time=   3.2s\n",
            "[CV] END bootstrap=True, max_depth=100, max_features=sqrt, min_samples_leaf=2, min_samples_split=5, n_estimators=1405; total time=   2.6s\n",
            "[CV] END bootstrap=True, max_depth=100, max_features=sqrt, min_samples_leaf=2, min_samples_split=5, n_estimators=1405; total time=   2.6s\n",
            "[CV] END bootstrap=True, max_depth=100, max_features=sqrt, min_samples_leaf=2, min_samples_split=5, n_estimators=1405; total time=   2.6s\n",
            "[CV] END bootstrap=True, max_depth=110, max_features=sqrt, min_samples_leaf=4, min_samples_split=10, n_estimators=1424; total time=   2.4s\n",
            "[CV] END bootstrap=True, max_depth=110, max_features=sqrt, min_samples_leaf=4, min_samples_split=10, n_estimators=1424; total time=   2.4s\n",
            "[CV] END bootstrap=True, max_depth=110, max_features=sqrt, min_samples_leaf=4, min_samples_split=10, n_estimators=1424; total time=   2.4s\n",
            "[CV] END bootstrap=False, max_depth=40, max_features=sqrt, min_samples_leaf=4, min_samples_split=5, n_estimators=1884; total time=   3.0s\n",
            "[CV] END bootstrap=False, max_depth=40, max_features=sqrt, min_samples_leaf=4, min_samples_split=5, n_estimators=1884; total time=   3.0s\n",
            "[CV] END bootstrap=False, max_depth=40, max_features=sqrt, min_samples_leaf=4, min_samples_split=5, n_estimators=1884; total time=   3.0s\n",
            "[CV] END bootstrap=True, max_depth=40, max_features=sqrt, min_samples_leaf=1, min_samples_split=2, n_estimators=1942; total time=   4.5s\n",
            "[CV] END bootstrap=True, max_depth=40, max_features=sqrt, min_samples_leaf=1, min_samples_split=2, n_estimators=1942; total time=   4.4s\n",
            "[CV] END bootstrap=True, max_depth=40, max_features=sqrt, min_samples_leaf=1, min_samples_split=2, n_estimators=1942; total time=   4.4s\n",
            "[CV] END bootstrap=False, max_depth=40, max_features=auto, min_samples_leaf=2, min_samples_split=5, n_estimators=1635; total time=   6.6s\n",
            "[CV] END bootstrap=False, max_depth=40, max_features=auto, min_samples_leaf=2, min_samples_split=5, n_estimators=1635; total time=   6.8s\n",
            "[CV] END bootstrap=False, max_depth=40, max_features=auto, min_samples_leaf=2, min_samples_split=5, n_estimators=1635; total time=   7.0s\n",
            "[CV] END bootstrap=False, max_depth=None, max_features=auto, min_samples_leaf=1, min_samples_split=2, n_estimators=752; total time=   3.7s\n",
            "[CV] END bootstrap=False, max_depth=None, max_features=auto, min_samples_leaf=1, min_samples_split=2, n_estimators=752; total time=   3.8s\n",
            "[CV] END bootstrap=False, max_depth=None, max_features=auto, min_samples_leaf=1, min_samples_split=2, n_estimators=752; total time=   3.9s\n",
            "[CV] END bootstrap=False, max_depth=30, max_features=auto, min_samples_leaf=2, min_samples_split=5, n_estimators=1213; total time=   4.9s\n",
            "[CV] END bootstrap=False, max_depth=30, max_features=auto, min_samples_leaf=2, min_samples_split=5, n_estimators=1213; total time=   5.0s\n",
            "[CV] END bootstrap=False, max_depth=30, max_features=auto, min_samples_leaf=2, min_samples_split=5, n_estimators=1213; total time=   5.2s\n",
            "[CV] END bootstrap=True, max_depth=110, max_features=sqrt, min_samples_leaf=1, min_samples_split=2, n_estimators=906; total time=   2.0s\n",
            "[CV] END bootstrap=True, max_depth=110, max_features=sqrt, min_samples_leaf=1, min_samples_split=2, n_estimators=906; total time=   2.0s\n",
            "[CV] END bootstrap=True, max_depth=110, max_features=sqrt, min_samples_leaf=1, min_samples_split=2, n_estimators=906; total time=   2.0s\n",
            "[CV] END bootstrap=True, max_depth=110, max_features=auto, min_samples_leaf=2, min_samples_split=5, n_estimators=694; total time=   2.2s\n",
            "[CV] END bootstrap=True, max_depth=110, max_features=auto, min_samples_leaf=2, min_samples_split=5, n_estimators=694; total time=   2.3s\n",
            "[CV] END bootstrap=True, max_depth=110, max_features=auto, min_samples_leaf=2, min_samples_split=5, n_estimators=694; total time=   2.3s\n",
            "[CV] END bootstrap=True, max_depth=20, max_features=sqrt, min_samples_leaf=1, min_samples_split=2, n_estimators=1002; total time=   2.2s\n",
            "[CV] END bootstrap=True, max_depth=20, max_features=sqrt, min_samples_leaf=1, min_samples_split=2, n_estimators=1002; total time=   2.3s\n",
            "[CV] END bootstrap=True, max_depth=20, max_features=sqrt, min_samples_leaf=1, min_samples_split=2, n_estimators=1002; total time=   2.3s\n",
            "[CV] END bootstrap=True, max_depth=10, max_features=auto, min_samples_leaf=1, min_samples_split=5, n_estimators=1808; total time=   5.6s\n",
            "[CV] END bootstrap=True, max_depth=10, max_features=auto, min_samples_leaf=1, min_samples_split=5, n_estimators=1808; total time=   5.7s\n",
            "[CV] END bootstrap=True, max_depth=10, max_features=auto, min_samples_leaf=1, min_samples_split=5, n_estimators=1808; total time=   5.6s\n",
            "[CV] END bootstrap=True, max_depth=110, max_features=sqrt, min_samples_leaf=1, min_samples_split=10, n_estimators=445; total time=   0.8s\n",
            "[CV] END bootstrap=True, max_depth=110, max_features=sqrt, min_samples_leaf=1, min_samples_split=10, n_estimators=445; total time=   0.8s\n",
            "[CV] END bootstrap=True, max_depth=110, max_features=sqrt, min_samples_leaf=1, min_samples_split=10, n_estimators=445; total time=   0.8s\n",
            "[CV] END bootstrap=False, max_depth=80, max_features=sqrt, min_samples_leaf=4, min_samples_split=2, n_estimators=1501; total time=   2.4s\n",
            "[CV] END bootstrap=False, max_depth=80, max_features=sqrt, min_samples_leaf=4, min_samples_split=2, n_estimators=1501; total time=   2.4s\n",
            "[CV] END bootstrap=False, max_depth=80, max_features=sqrt, min_samples_leaf=4, min_samples_split=2, n_estimators=1501; total time=   2.4s\n",
            "[CV] END bootstrap=True, max_depth=20, max_features=auto, min_samples_leaf=1, min_samples_split=2, n_estimators=2000; total time=   7.7s\n",
            "[CV] END bootstrap=True, max_depth=20, max_features=auto, min_samples_leaf=1, min_samples_split=2, n_estimators=2000; total time=   7.9s\n",
            "[CV] END bootstrap=True, max_depth=20, max_features=auto, min_samples_leaf=1, min_samples_split=2, n_estimators=2000; total time=   7.9s\n",
            "[CV] END bootstrap=True, max_depth=10, max_features=sqrt, min_samples_leaf=2, min_samples_split=2, n_estimators=1385; total time=   2.4s\n",
            "[CV] END bootstrap=True, max_depth=10, max_features=sqrt, min_samples_leaf=2, min_samples_split=2, n_estimators=1385; total time=   2.4s\n",
            "[CV] END bootstrap=True, max_depth=10, max_features=sqrt, min_samples_leaf=2, min_samples_split=2, n_estimators=1385; total time=   2.5s\n",
            "[CV] END bootstrap=False, max_depth=60, max_features=sqrt, min_samples_leaf=1, min_samples_split=2, n_estimators=1078; total time=   2.6s\n",
            "[CV] END bootstrap=False, max_depth=60, max_features=sqrt, min_samples_leaf=1, min_samples_split=2, n_estimators=1078; total time=   2.6s\n",
            "[CV] END bootstrap=False, max_depth=60, max_features=sqrt, min_samples_leaf=1, min_samples_split=2, n_estimators=1078; total time=   2.6s\n",
            "[CV] END bootstrap=True, max_depth=70, max_features=auto, min_samples_leaf=2, min_samples_split=10, n_estimators=1904; total time=   5.6s\n",
            "[CV] END bootstrap=True, max_depth=70, max_features=auto, min_samples_leaf=2, min_samples_split=10, n_estimators=1904; total time=   5.7s\n",
            "[CV] END bootstrap=True, max_depth=70, max_features=auto, min_samples_leaf=2, min_samples_split=10, n_estimators=1904; total time=   5.7s\n",
            "[CV] END bootstrap=True, max_depth=20, max_features=sqrt, min_samples_leaf=4, min_samples_split=10, n_estimators=1174; total time=   2.1s\n",
            "[CV] END bootstrap=True, max_depth=20, max_features=sqrt, min_samples_leaf=4, min_samples_split=10, n_estimators=1174; total time=   2.0s\n",
            "[CV] END bootstrap=True, max_depth=20, max_features=sqrt, min_samples_leaf=4, min_samples_split=10, n_estimators=1174; total time=   2.0s\n",
            "[CV] END bootstrap=True, max_depth=30, max_features=auto, min_samples_leaf=1, min_samples_split=10, n_estimators=1827; total time=   5.6s\n",
            "[CV] END bootstrap=True, max_depth=30, max_features=auto, min_samples_leaf=1, min_samples_split=10, n_estimators=1827; total time=   5.7s\n",
            "[CV] END bootstrap=True, max_depth=30, max_features=auto, min_samples_leaf=1, min_samples_split=10, n_estimators=1827; total time=   5.7s\n",
            "[CV] END bootstrap=False, max_depth=None, max_features=auto, min_samples_leaf=1, min_samples_split=10, n_estimators=215; total time=   0.8s\n",
            "[CV] END bootstrap=False, max_depth=None, max_features=auto, min_samples_leaf=1, min_samples_split=10, n_estimators=215; total time=   0.8s\n",
            "[CV] END bootstrap=False, max_depth=None, max_features=auto, min_samples_leaf=1, min_samples_split=10, n_estimators=215; total time=   0.9s\n",
            "[CV] END bootstrap=False, max_depth=60, max_features=auto, min_samples_leaf=1, min_samples_split=5, n_estimators=867; total time=   3.6s\n",
            "[CV] END bootstrap=False, max_depth=60, max_features=auto, min_samples_leaf=1, min_samples_split=5, n_estimators=867; total time=   3.8s\n",
            "[CV] END bootstrap=False, max_depth=60, max_features=auto, min_samples_leaf=1, min_samples_split=5, n_estimators=867; total time=   3.9s\n",
            "[CV] END bootstrap=True, max_depth=90, max_features=auto, min_samples_leaf=1, min_samples_split=5, n_estimators=138; total time=   0.5s\n",
            "[CV] END bootstrap=True, max_depth=90, max_features=auto, min_samples_leaf=1, min_samples_split=5, n_estimators=138; total time=   0.5s\n",
            "[CV] END bootstrap=True, max_depth=90, max_features=auto, min_samples_leaf=1, min_samples_split=5, n_estimators=138; total time=   0.5s\n",
            "[CV] END bootstrap=False, max_depth=10, max_features=auto, min_samples_leaf=1, min_samples_split=5, n_estimators=1577; total time=   5.7s\n",
            "[CV] END bootstrap=False, max_depth=10, max_features=auto, min_samples_leaf=1, min_samples_split=5, n_estimators=1577; total time=   5.6s\n",
            "[CV] END bootstrap=False, max_depth=10, max_features=auto, min_samples_leaf=1, min_samples_split=5, n_estimators=1577; total time=   5.7s\n",
            "[CV] END bootstrap=True, max_depth=60, max_features=sqrt, min_samples_leaf=4, min_samples_split=5, n_estimators=618; total time=   1.1s\n",
            "[CV] END bootstrap=True, max_depth=60, max_features=sqrt, min_samples_leaf=4, min_samples_split=5, n_estimators=618; total time=   1.0s\n",
            "[CV] END bootstrap=True, max_depth=60, max_features=sqrt, min_samples_leaf=4, min_samples_split=5, n_estimators=618; total time=   1.0s\n",
            "[CV] END bootstrap=True, max_depth=50, max_features=sqrt, min_samples_leaf=4, min_samples_split=2, n_estimators=1865; total time=   3.1s\n",
            "[CV] END bootstrap=True, max_depth=50, max_features=sqrt, min_samples_leaf=4, min_samples_split=2, n_estimators=1865; total time=   3.2s\n",
            "[CV] END bootstrap=True, max_depth=50, max_features=sqrt, min_samples_leaf=4, min_samples_split=2, n_estimators=1865; total time=   3.2s\n",
            "[CV] END bootstrap=False, max_depth=None, max_features=sqrt, min_samples_leaf=4, min_samples_split=5, n_estimators=503; total time=   0.8s\n",
            "[CV] END bootstrap=False, max_depth=None, max_features=sqrt, min_samples_leaf=4, min_samples_split=5, n_estimators=503; total time=   0.8s\n",
            "[CV] END bootstrap=False, max_depth=None, max_features=sqrt, min_samples_leaf=4, min_samples_split=5, n_estimators=503; total time=   0.8s\n",
            "[CV] END bootstrap=True, max_depth=50, max_features=sqrt, min_samples_leaf=2, min_samples_split=2, n_estimators=733; total time=   1.4s\n",
            "[CV] END bootstrap=True, max_depth=50, max_features=sqrt, min_samples_leaf=2, min_samples_split=2, n_estimators=733; total time=   1.4s\n",
            "[CV] END bootstrap=True, max_depth=50, max_features=sqrt, min_samples_leaf=2, min_samples_split=2, n_estimators=733; total time=   1.4s\n",
            "[CV] END bootstrap=False, max_depth=None, max_features=sqrt, min_samples_leaf=4, min_samples_split=5, n_estimators=119; total time=   0.2s\n",
            "[CV] END bootstrap=False, max_depth=None, max_features=sqrt, min_samples_leaf=4, min_samples_split=5, n_estimators=119; total time=   0.2s\n",
            "[CV] END bootstrap=False, max_depth=None, max_features=sqrt, min_samples_leaf=4, min_samples_split=5, n_estimators=119; total time=   0.2s\n",
            "[CV] END bootstrap=True, max_depth=70, max_features=auto, min_samples_leaf=1, min_samples_split=10, n_estimators=407; total time=   1.3s\n",
            "[CV] END bootstrap=True, max_depth=70, max_features=auto, min_samples_leaf=1, min_samples_split=10, n_estimators=407; total time=   1.3s\n",
            "[CV] END bootstrap=True, max_depth=70, max_features=auto, min_samples_leaf=1, min_samples_split=10, n_estimators=407; total time=   1.3s\n",
            "[CV] END bootstrap=False, max_depth=20, max_features=auto, min_samples_leaf=2, min_samples_split=5, n_estimators=1961; total time=   7.8s\n",
            "[CV] END bootstrap=False, max_depth=20, max_features=auto, min_samples_leaf=2, min_samples_split=5, n_estimators=1961; total time=   8.0s\n",
            "[CV] END bootstrap=False, max_depth=20, max_features=auto, min_samples_leaf=2, min_samples_split=5, n_estimators=1961; total time=   8.4s\n",
            "[CV] END bootstrap=True, max_depth=20, max_features=auto, min_samples_leaf=4, min_samples_split=10, n_estimators=330; total time=   0.9s\n",
            "[CV] END bootstrap=True, max_depth=20, max_features=auto, min_samples_leaf=4, min_samples_split=10, n_estimators=330; total time=   1.0s\n",
            "[CV] END bootstrap=True, max_depth=20, max_features=auto, min_samples_leaf=4, min_samples_split=10, n_estimators=330; total time=   0.9s\n",
            "[CV] END bootstrap=False, max_depth=20, max_features=auto, min_samples_leaf=1, min_samples_split=2, n_estimators=1692; total time=   8.2s\n",
            "[CV] END bootstrap=False, max_depth=20, max_features=auto, min_samples_leaf=1, min_samples_split=2, n_estimators=1692; total time=   8.4s\n",
            "[CV] END bootstrap=False, max_depth=20, max_features=auto, min_samples_leaf=1, min_samples_split=2, n_estimators=1692; total time=   8.6s\n",
            "[CV] END bootstrap=True, max_depth=100, max_features=sqrt, min_samples_leaf=1, min_samples_split=2, n_estimators=1232; total time=   2.8s\n",
            "[CV] END bootstrap=True, max_depth=100, max_features=sqrt, min_samples_leaf=1, min_samples_split=2, n_estimators=1232; total time=   2.9s\n",
            "[CV] END bootstrap=True, max_depth=100, max_features=sqrt, min_samples_leaf=1, min_samples_split=2, n_estimators=1232; total time=   2.8s\n",
            "[CV] END bootstrap=False, max_depth=110, max_features=sqrt, min_samples_leaf=2, min_samples_split=5, n_estimators=1904; total time=   3.4s\n",
            "[CV] END bootstrap=False, max_depth=110, max_features=sqrt, min_samples_leaf=2, min_samples_split=5, n_estimators=1904; total time=   3.4s\n",
            "[CV] END bootstrap=False, max_depth=110, max_features=sqrt, min_samples_leaf=2, min_samples_split=5, n_estimators=1904; total time=   3.4s\n",
            "[CV] END bootstrap=True, max_depth=90, max_features=auto, min_samples_leaf=1, min_samples_split=5, n_estimators=886; total time=   3.0s\n",
            "[CV] END bootstrap=True, max_depth=90, max_features=auto, min_samples_leaf=1, min_samples_split=5, n_estimators=886; total time=   3.1s\n",
            "[CV] END bootstrap=True, max_depth=90, max_features=auto, min_samples_leaf=1, min_samples_split=5, n_estimators=886; total time=   3.1s\n",
            "[CV] END bootstrap=False, max_depth=80, max_features=sqrt, min_samples_leaf=4, min_samples_split=10, n_estimators=483; total time=   0.7s\n",
            "[CV] END bootstrap=False, max_depth=80, max_features=sqrt, min_samples_leaf=4, min_samples_split=10, n_estimators=483; total time=   0.8s\n",
            "[CV] END bootstrap=False, max_depth=80, max_features=sqrt, min_samples_leaf=4, min_samples_split=10, n_estimators=483; total time=   0.8s\n",
            "[CV] END bootstrap=False, max_depth=30, max_features=sqrt, min_samples_leaf=2, min_samples_split=5, n_estimators=694; total time=   1.2s\n",
            "[CV] END bootstrap=False, max_depth=30, max_features=sqrt, min_samples_leaf=2, min_samples_split=5, n_estimators=694; total time=   1.2s\n",
            "[CV] END bootstrap=False, max_depth=30, max_features=sqrt, min_samples_leaf=2, min_samples_split=5, n_estimators=694; total time=   1.3s\n",
            "[CV] END bootstrap=True, max_depth=10, max_features=sqrt, min_samples_leaf=4, min_samples_split=2, n_estimators=1731; total time=   2.9s\n",
            "[CV] END bootstrap=True, max_depth=10, max_features=sqrt, min_samples_leaf=4, min_samples_split=2, n_estimators=1731; total time=   2.8s\n",
            "[CV] END bootstrap=True, max_depth=10, max_features=sqrt, min_samples_leaf=4, min_samples_split=2, n_estimators=1731; total time=   2.9s\n",
            "[CV] END bootstrap=True, max_depth=30, max_features=auto, min_samples_leaf=2, min_samples_split=2, n_estimators=925; total time=   3.1s\n",
            "[CV] END bootstrap=True, max_depth=30, max_features=auto, min_samples_leaf=2, min_samples_split=2, n_estimators=925; total time=   3.1s\n",
            "[CV] END bootstrap=True, max_depth=30, max_features=auto, min_samples_leaf=2, min_samples_split=2, n_estimators=925; total time=   3.1s\n",
            "[CV] END bootstrap=False, max_depth=20, max_features=auto, min_samples_leaf=2, min_samples_split=10, n_estimators=848; total time=   3.1s\n",
            "[CV] END bootstrap=False, max_depth=20, max_features=auto, min_samples_leaf=2, min_samples_split=10, n_estimators=848; total time=   3.1s\n",
            "[CV] END bootstrap=False, max_depth=20, max_features=auto, min_samples_leaf=2, min_samples_split=10, n_estimators=848; total time=   3.3s\n",
            "[CV] END bootstrap=True, max_depth=110, max_features=sqrt, min_samples_leaf=2, min_samples_split=10, n_estimators=1193; total time=   2.1s\n",
            "[CV] END bootstrap=True, max_depth=110, max_features=sqrt, min_samples_leaf=2, min_samples_split=10, n_estimators=1193; total time=   2.1s\n",
            "[CV] END bootstrap=True, max_depth=110, max_features=sqrt, min_samples_leaf=2, min_samples_split=10, n_estimators=1193; total time=   2.1s\n",
            "[CV] END bootstrap=True, max_depth=10, max_features=sqrt, min_samples_leaf=1, min_samples_split=5, n_estimators=503; total time=   1.0s\n",
            "[CV] END bootstrap=True, max_depth=10, max_features=sqrt, min_samples_leaf=1, min_samples_split=5, n_estimators=503; total time=   0.9s\n",
            "[CV] END bootstrap=True, max_depth=10, max_features=sqrt, min_samples_leaf=1, min_samples_split=5, n_estimators=503; total time=   0.9s\n",
            "[CV] END bootstrap=True, max_depth=70, max_features=auto, min_samples_leaf=4, min_samples_split=10, n_estimators=1117; total time=   3.1s\n",
            "[CV] END bootstrap=True, max_depth=70, max_features=auto, min_samples_leaf=4, min_samples_split=10, n_estimators=1117; total time=   3.2s\n",
            "[CV] END bootstrap=True, max_depth=70, max_features=auto, min_samples_leaf=4, min_samples_split=10, n_estimators=1117; total time=   3.2s\n",
            "[CV] END bootstrap=True, max_depth=80, max_features=auto, min_samples_leaf=4, min_samples_split=10, n_estimators=426; total time=   1.2s\n",
            "[CV] END bootstrap=True, max_depth=80, max_features=auto, min_samples_leaf=4, min_samples_split=10, n_estimators=426; total time=   1.2s\n",
            "[CV] END bootstrap=True, max_depth=80, max_features=auto, min_samples_leaf=4, min_samples_split=10, n_estimators=426; total time=   1.2s\n",
            "[CV] END bootstrap=False, max_depth=110, max_features=sqrt, min_samples_leaf=1, min_samples_split=10, n_estimators=1193; total time=   2.1s\n",
            "[CV] END bootstrap=False, max_depth=110, max_features=sqrt, min_samples_leaf=1, min_samples_split=10, n_estimators=1193; total time=   2.1s\n",
            "[CV] END bootstrap=False, max_depth=110, max_features=sqrt, min_samples_leaf=1, min_samples_split=10, n_estimators=1193; total time=   2.1s\n",
            "[CV] END bootstrap=True, max_depth=60, max_features=auto, min_samples_leaf=4, min_samples_split=2, n_estimators=1865; total time=   5.3s\n",
            "[CV] END bootstrap=True, max_depth=60, max_features=auto, min_samples_leaf=4, min_samples_split=2, n_estimators=1865; total time=   5.5s\n",
            "[CV] END bootstrap=True, max_depth=60, max_features=auto, min_samples_leaf=4, min_samples_split=2, n_estimators=1865; total time=   5.4s\n",
            "[CV] END bootstrap=True, max_depth=40, max_features=sqrt, min_samples_leaf=2, min_samples_split=10, n_estimators=1501; total time=   2.6s\n",
            "[CV] END bootstrap=True, max_depth=40, max_features=sqrt, min_samples_leaf=2, min_samples_split=10, n_estimators=1501; total time=   2.6s\n",
            "[CV] END bootstrap=True, max_depth=40, max_features=sqrt, min_samples_leaf=2, min_samples_split=10, n_estimators=1501; total time=   2.6s\n",
            "[CV] END bootstrap=True, max_depth=40, max_features=auto, min_samples_leaf=1, min_samples_split=10, n_estimators=1539; total time=   4.7s\n",
            "[CV] END bootstrap=True, max_depth=40, max_features=auto, min_samples_leaf=1, min_samples_split=10, n_estimators=1539; total time=   4.9s\n",
            "[CV] END bootstrap=True, max_depth=40, max_features=auto, min_samples_leaf=1, min_samples_split=10, n_estimators=1539; total time=   4.9s\n",
            "[CV] END bootstrap=True, max_depth=10, max_features=auto, min_samples_leaf=1, min_samples_split=5, n_estimators=1270; total time=   3.9s\n",
            "[CV] END bootstrap=True, max_depth=10, max_features=auto, min_samples_leaf=1, min_samples_split=5, n_estimators=1270; total time=   4.0s\n",
            "[CV] END bootstrap=True, max_depth=10, max_features=auto, min_samples_leaf=1, min_samples_split=5, n_estimators=1270; total time=   3.9s\n",
            "[CV] END bootstrap=False, max_depth=90, max_features=sqrt, min_samples_leaf=1, min_samples_split=5, n_estimators=1347; total time=   2.7s\n",
            "[CV] END bootstrap=False, max_depth=90, max_features=sqrt, min_samples_leaf=1, min_samples_split=5, n_estimators=1347; total time=   2.7s\n",
            "[CV] END bootstrap=False, max_depth=90, max_features=sqrt, min_samples_leaf=1, min_samples_split=5, n_estimators=1347; total time=   2.7s\n",
            "[CV] END bootstrap=False, max_depth=30, max_features=sqrt, min_samples_leaf=2, min_samples_split=5, n_estimators=1193; total time=   2.1s\n",
            "[CV] END bootstrap=False, max_depth=30, max_features=sqrt, min_samples_leaf=2, min_samples_split=5, n_estimators=1193; total time=   2.1s\n",
            "[CV] END bootstrap=False, max_depth=30, max_features=sqrt, min_samples_leaf=2, min_samples_split=5, n_estimators=1193; total time=   2.1s\n",
            "[CV] END bootstrap=False, max_depth=70, max_features=sqrt, min_samples_leaf=2, min_samples_split=5, n_estimators=1309; total time=   2.3s\n",
            "[CV] END bootstrap=False, max_depth=70, max_features=sqrt, min_samples_leaf=2, min_samples_split=5, n_estimators=1309; total time=   2.3s\n",
            "[CV] END bootstrap=False, max_depth=70, max_features=sqrt, min_samples_leaf=2, min_samples_split=5, n_estimators=1309; total time=   2.4s\n",
            "[CV] END bootstrap=False, max_depth=70, max_features=auto, min_samples_leaf=1, min_samples_split=10, n_estimators=215; total time=   0.8s\n",
            "[CV] END bootstrap=False, max_depth=70, max_features=auto, min_samples_leaf=1, min_samples_split=10, n_estimators=215; total time=   0.9s\n",
            "[CV] END bootstrap=False, max_depth=70, max_features=auto, min_samples_leaf=1, min_samples_split=10, n_estimators=215; total time=   0.9s\n",
            "[CV] END bootstrap=True, max_depth=70, max_features=auto, min_samples_leaf=4, min_samples_split=5, n_estimators=752; total time=   2.1s\n",
            "[CV] END bootstrap=True, max_depth=70, max_features=auto, min_samples_leaf=4, min_samples_split=5, n_estimators=752; total time=   2.2s\n",
            "[CV] END bootstrap=True, max_depth=70, max_features=auto, min_samples_leaf=4, min_samples_split=5, n_estimators=752; total time=   2.2s\n",
            "[CV] END bootstrap=False, max_depth=50, max_features=auto, min_samples_leaf=2, min_samples_split=2, n_estimators=618; total time=   2.6s\n",
            "[CV] END bootstrap=False, max_depth=50, max_features=auto, min_samples_leaf=2, min_samples_split=2, n_estimators=618; total time=   2.6s\n",
            "[CV] END bootstrap=False, max_depth=50, max_features=auto, min_samples_leaf=2, min_samples_split=2, n_estimators=618; total time=   2.7s\n",
            "[CV] END bootstrap=False, max_depth=110, max_features=auto, min_samples_leaf=4, min_samples_split=5, n_estimators=1961; total time=   6.8s\n",
            "[CV] END bootstrap=False, max_depth=110, max_features=auto, min_samples_leaf=4, min_samples_split=5, n_estimators=1961; total time=   7.0s\n",
            "[CV] END bootstrap=False, max_depth=110, max_features=auto, min_samples_leaf=4, min_samples_split=5, n_estimators=1961; total time=   7.0s\n",
            "[CV] END bootstrap=False, max_depth=30, max_features=auto, min_samples_leaf=4, min_samples_split=2, n_estimators=1078; total time=   3.7s\n",
            "[CV] END bootstrap=False, max_depth=30, max_features=auto, min_samples_leaf=4, min_samples_split=2, n_estimators=1078; total time=   3.9s\n",
            "[CV] END bootstrap=False, max_depth=30, max_features=auto, min_samples_leaf=4, min_samples_split=2, n_estimators=1078; total time=   3.8s\n",
            "[CV] END bootstrap=True, max_depth=10, max_features=sqrt, min_samples_leaf=1, min_samples_split=5, n_estimators=407; total time=   0.7s\n",
            "[CV] END bootstrap=True, max_depth=10, max_features=sqrt, min_samples_leaf=1, min_samples_split=5, n_estimators=407; total time=   0.7s\n",
            "[CV] END bootstrap=True, max_depth=10, max_features=sqrt, min_samples_leaf=1, min_samples_split=5, n_estimators=407; total time=   0.7s\n",
            "[CV] END bootstrap=False, max_depth=20, max_features=auto, min_samples_leaf=4, min_samples_split=10, n_estimators=1117; total time=   3.7s\n",
            "[CV] END bootstrap=False, max_depth=20, max_features=auto, min_samples_leaf=4, min_samples_split=10, n_estimators=1117; total time=   3.8s\n",
            "[CV] END bootstrap=False, max_depth=20, max_features=auto, min_samples_leaf=4, min_samples_split=10, n_estimators=1117; total time=   4.0s\n",
            "[CV] END bootstrap=False, max_depth=20, max_features=auto, min_samples_leaf=4, min_samples_split=10, n_estimators=1558; total time=   5.2s\n",
            "[CV] END bootstrap=False, max_depth=20, max_features=auto, min_samples_leaf=4, min_samples_split=10, n_estimators=1558; total time=   5.4s\n",
            "[CV] END bootstrap=False, max_depth=20, max_features=auto, min_samples_leaf=4, min_samples_split=10, n_estimators=1558; total time=   5.4s\n",
            "[CV] END bootstrap=False, max_depth=10, max_features=sqrt, min_samples_leaf=4, min_samples_split=5, n_estimators=1002; total time=   1.5s\n",
            "[CV] END bootstrap=False, max_depth=10, max_features=sqrt, min_samples_leaf=4, min_samples_split=5, n_estimators=1002; total time=   1.5s\n",
            "[CV] END bootstrap=False, max_depth=10, max_features=sqrt, min_samples_leaf=4, min_samples_split=5, n_estimators=1002; total time=   1.6s\n",
            "[CV] END bootstrap=False, max_depth=20, max_features=sqrt, min_samples_leaf=1, min_samples_split=2, n_estimators=100; total time=   0.2s\n",
            "[CV] END bootstrap=False, max_depth=20, max_features=sqrt, min_samples_leaf=1, min_samples_split=2, n_estimators=100; total time=   0.2s\n",
            "[CV] END bootstrap=False, max_depth=20, max_features=sqrt, min_samples_leaf=1, min_samples_split=2, n_estimators=100; total time=   0.3s\n",
            "[CV] END bootstrap=True, max_depth=50, max_features=sqrt, min_samples_leaf=2, min_samples_split=5, n_estimators=656; total time=   1.2s\n",
            "[CV] END bootstrap=True, max_depth=50, max_features=sqrt, min_samples_leaf=2, min_samples_split=5, n_estimators=656; total time=   1.2s\n",
            "[CV] END bootstrap=True, max_depth=50, max_features=sqrt, min_samples_leaf=2, min_samples_split=5, n_estimators=656; total time=   1.2s\n",
            "[CV] END bootstrap=True, max_depth=100, max_features=sqrt, min_samples_leaf=1, min_samples_split=5, n_estimators=1289; total time=   2.5s\n",
            "[CV] END bootstrap=True, max_depth=100, max_features=sqrt, min_samples_leaf=1, min_samples_split=5, n_estimators=1289; total time=   2.5s\n",
            "[CV] END bootstrap=True, max_depth=100, max_features=sqrt, min_samples_leaf=1, min_samples_split=5, n_estimators=1289; total time=   2.5s\n",
            "[CV] END bootstrap=True, max_depth=60, max_features=auto, min_samples_leaf=1, min_samples_split=10, n_estimators=1405; total time=   4.3s\n",
            "[CV] END bootstrap=True, max_depth=60, max_features=auto, min_samples_leaf=1, min_samples_split=10, n_estimators=1405; total time=   4.4s\n",
            "[CV] END bootstrap=True, max_depth=60, max_features=auto, min_samples_leaf=1, min_samples_split=10, n_estimators=1405; total time=   4.4s\n",
            "[CV] END bootstrap=True, max_depth=None, max_features=sqrt, min_samples_leaf=2, min_samples_split=10, n_estimators=1462; total time=   2.5s\n",
            "[CV] END bootstrap=True, max_depth=None, max_features=sqrt, min_samples_leaf=2, min_samples_split=10, n_estimators=1462; total time=   2.6s\n",
            "[CV] END bootstrap=True, max_depth=None, max_features=sqrt, min_samples_leaf=2, min_samples_split=10, n_estimators=1462; total time=   2.6s\n",
            "[CV] END bootstrap=True, max_depth=70, max_features=sqrt, min_samples_leaf=2, min_samples_split=5, n_estimators=1731; total time=   3.2s\n",
            "[CV] END bootstrap=True, max_depth=70, max_features=sqrt, min_samples_leaf=2, min_samples_split=5, n_estimators=1731; total time=   3.2s\n",
            "[CV] END bootstrap=True, max_depth=70, max_features=sqrt, min_samples_leaf=2, min_samples_split=5, n_estimators=1731; total time=   3.3s\n",
            "[CV] END bootstrap=True, max_depth=None, max_features=sqrt, min_samples_leaf=2, min_samples_split=10, n_estimators=925; total time=   1.6s\n",
            "[CV] END bootstrap=True, max_depth=None, max_features=sqrt, min_samples_leaf=2, min_samples_split=10, n_estimators=925; total time=   1.6s\n",
            "[CV] END bootstrap=True, max_depth=None, max_features=sqrt, min_samples_leaf=2, min_samples_split=10, n_estimators=925; total time=   1.6s\n",
            "[CV] END bootstrap=False, max_depth=100, max_features=sqrt, min_samples_leaf=2, min_samples_split=2, n_estimators=2000; total time=   3.7s\n",
            "[CV] END bootstrap=False, max_depth=100, max_features=sqrt, min_samples_leaf=2, min_samples_split=2, n_estimators=2000; total time=   3.7s\n",
            "[CV] END bootstrap=False, max_depth=100, max_features=sqrt, min_samples_leaf=2, min_samples_split=2, n_estimators=2000; total time=   3.7s\n",
            "[CV] END bootstrap=True, max_depth=50, max_features=sqrt, min_samples_leaf=2, min_samples_split=5, n_estimators=1462; total time=   2.7s\n",
            "[CV] END bootstrap=True, max_depth=50, max_features=sqrt, min_samples_leaf=2, min_samples_split=5, n_estimators=1462; total time=   2.7s\n",
            "[CV] END bootstrap=True, max_depth=50, max_features=sqrt, min_samples_leaf=2, min_samples_split=5, n_estimators=1462; total time=   2.7s\n",
            "[CV] END bootstrap=False, max_depth=110, max_features=auto, min_samples_leaf=2, min_samples_split=2, n_estimators=1558; total time=   6.4s\n",
            "[CV] END bootstrap=False, max_depth=110, max_features=auto, min_samples_leaf=2, min_samples_split=2, n_estimators=1558; total time=   6.6s\n",
            "[CV] END bootstrap=False, max_depth=110, max_features=auto, min_samples_leaf=2, min_samples_split=2, n_estimators=1558; total time=   6.8s\n",
            "[CV] END bootstrap=False, max_depth=100, max_features=auto, min_samples_leaf=1, min_samples_split=10, n_estimators=944; total time=   3.5s\n",
            "[CV] END bootstrap=False, max_depth=100, max_features=auto, min_samples_leaf=1, min_samples_split=10, n_estimators=944; total time=   3.6s\n",
            "[CV] END bootstrap=False, max_depth=100, max_features=auto, min_samples_leaf=1, min_samples_split=10, n_estimators=944; total time=   3.7s\n",
            "[CV] END bootstrap=False, max_depth=110, max_features=sqrt, min_samples_leaf=1, min_samples_split=10, n_estimators=1520; total time=   2.6s\n",
            "[CV] END bootstrap=False, max_depth=110, max_features=sqrt, min_samples_leaf=1, min_samples_split=10, n_estimators=1520; total time=   2.7s\n",
            "[CV] END bootstrap=False, max_depth=110, max_features=sqrt, min_samples_leaf=1, min_samples_split=10, n_estimators=1520; total time=   2.8s\n",
            "[CV] END bootstrap=True, max_depth=20, max_features=auto, min_samples_leaf=4, min_samples_split=5, n_estimators=1405; total time=   4.0s\n",
            "[CV] END bootstrap=True, max_depth=20, max_features=auto, min_samples_leaf=4, min_samples_split=5, n_estimators=1405; total time=   4.1s\n",
            "[CV] END bootstrap=True, max_depth=20, max_features=auto, min_samples_leaf=4, min_samples_split=5, n_estimators=1405; total time=   4.0s\n",
            "[CV] END bootstrap=True, max_depth=20, max_features=auto, min_samples_leaf=1, min_samples_split=10, n_estimators=618; total time=   1.9s\n",
            "[CV] END bootstrap=True, max_depth=20, max_features=auto, min_samples_leaf=1, min_samples_split=10, n_estimators=618; total time=   2.0s\n",
            "[CV] END bootstrap=True, max_depth=20, max_features=auto, min_samples_leaf=1, min_samples_split=10, n_estimators=618; total time=   1.9s\n",
            "[CV] END bootstrap=True, max_depth=20, max_features=auto, min_samples_leaf=4, min_samples_split=10, n_estimators=1923; total time=   5.3s\n",
            "[CV] END bootstrap=True, max_depth=20, max_features=auto, min_samples_leaf=4, min_samples_split=10, n_estimators=1923; total time=   5.5s\n",
            "[CV] END bootstrap=True, max_depth=20, max_features=auto, min_samples_leaf=4, min_samples_split=10, n_estimators=1923; total time=   5.4s\n",
            "[CV] END bootstrap=True, max_depth=30, max_features=sqrt, min_samples_leaf=4, min_samples_split=5, n_estimators=1213; total time=   2.0s\n",
            "[CV] END bootstrap=True, max_depth=30, max_features=sqrt, min_samples_leaf=4, min_samples_split=5, n_estimators=1213; total time=   2.1s\n",
            "[CV] END bootstrap=True, max_depth=30, max_features=sqrt, min_samples_leaf=4, min_samples_split=5, n_estimators=1213; total time=   2.1s\n",
            "[CV] END bootstrap=False, max_depth=10, max_features=auto, min_samples_leaf=2, min_samples_split=5, n_estimators=138; total time=   0.5s\n",
            "[CV] END bootstrap=False, max_depth=10, max_features=auto, min_samples_leaf=2, min_samples_split=5, n_estimators=138; total time=   0.5s\n",
            "[CV] END bootstrap=False, max_depth=10, max_features=auto, min_samples_leaf=2, min_samples_split=5, n_estimators=138; total time=   0.5s\n",
            "[CV] END bootstrap=False, max_depth=100, max_features=sqrt, min_samples_leaf=4, min_samples_split=10, n_estimators=176; total time=   0.3s\n",
            "[CV] END bootstrap=False, max_depth=100, max_features=sqrt, min_samples_leaf=4, min_samples_split=10, n_estimators=176; total time=   0.3s\n",
            "[CV] END bootstrap=False, max_depth=100, max_features=sqrt, min_samples_leaf=4, min_samples_split=10, n_estimators=176; total time=   0.3s\n",
            "[CV] END bootstrap=False, max_depth=70, max_features=auto, min_samples_leaf=4, min_samples_split=5, n_estimators=1232; total time=   4.2s\n",
            "[CV] END bootstrap=False, max_depth=70, max_features=auto, min_samples_leaf=4, min_samples_split=5, n_estimators=1232; total time=   4.4s\n",
            "[CV] END bootstrap=False, max_depth=70, max_features=auto, min_samples_leaf=4, min_samples_split=5, n_estimators=1232; total time=   4.4s\n",
            "[CV] END bootstrap=True, max_depth=80, max_features=sqrt, min_samples_leaf=2, min_samples_split=5, n_estimators=1750; total time=   3.2s\n",
            "[CV] END bootstrap=True, max_depth=80, max_features=sqrt, min_samples_leaf=2, min_samples_split=5, n_estimators=1750; total time=   3.3s\n",
            "[CV] END bootstrap=True, max_depth=80, max_features=sqrt, min_samples_leaf=2, min_samples_split=5, n_estimators=1750; total time=   3.3s\n",
            "[CV] END bootstrap=True, max_depth=80, max_features=auto, min_samples_leaf=1, min_samples_split=2, n_estimators=1366; total time=   5.3s\n",
            "[CV] END bootstrap=True, max_depth=80, max_features=auto, min_samples_leaf=1, min_samples_split=2, n_estimators=1366; total time=   5.4s\n",
            "[CV] END bootstrap=True, max_depth=80, max_features=auto, min_samples_leaf=1, min_samples_split=2, n_estimators=1366; total time=   5.4s\n",
            "[CV] END bootstrap=False, max_depth=100, max_features=auto, min_samples_leaf=4, min_samples_split=10, n_estimators=1251; total time=   4.2s\n",
            "[CV] END bootstrap=False, max_depth=100, max_features=auto, min_samples_leaf=4, min_samples_split=10, n_estimators=1251; total time=   4.4s\n",
            "[CV] END bootstrap=False, max_depth=100, max_features=auto, min_samples_leaf=4, min_samples_split=10, n_estimators=1251; total time=   4.3s\n",
            "[CV] END bootstrap=True, max_depth=20, max_features=sqrt, min_samples_leaf=4, min_samples_split=10, n_estimators=1270; total time=   2.1s\n",
            "[CV] END bootstrap=True, max_depth=20, max_features=sqrt, min_samples_leaf=4, min_samples_split=10, n_estimators=1270; total time=   2.1s\n",
            "[CV] END bootstrap=True, max_depth=20, max_features=sqrt, min_samples_leaf=4, min_samples_split=10, n_estimators=1270; total time=   2.1s\n"
          ]
        },
        {
          "output_type": "execute_result",
          "data": {
            "text/plain": [
              "RandomizedSearchCV(cv=3, estimator=RandomForestRegressor(), n_iter=100,\n",
              "                   param_distributions={'bootstrap': [True, False],\n",
              "                                        'max_depth': [10, 20, 30, 40, 50, 60,\n",
              "                                                      70, 80, 90, 100, 110,\n",
              "                                                      None],\n",
              "                                        'max_features': ['auto', 'sqrt'],\n",
              "                                        'min_samples_leaf': [1, 2, 4],\n",
              "                                        'min_samples_split': [2, 5, 10],\n",
              "                                        'n_estimators': [100, 119, 138, 157,\n",
              "                                                         176, 195, 215, 234,\n",
              "                                                         253, 272, 291, 311,\n",
              "                                                         330, 349, 368, 387,\n",
              "                                                         407, 426, 445, 464,\n",
              "                                                         483, 503, 522, 541,\n",
              "                                                         560, 579, 598, 618,\n",
              "                                                         637, 656, ...]},\n",
              "                   random_state=42, verbose=2)"
            ]
          },
          "metadata": {},
          "execution_count": 126
        }
      ]
    },
    {
      "cell_type": "code",
      "metadata": {
        "colab": {
          "base_uri": "https://localhost:8080/"
        },
        "id": "CJTY26wZb8H5",
        "outputId": "5e13a26b-3f35-4d45-8d2a-b24fa03cec99"
      },
      "source": [
        "rf_random.best_params_"
      ],
      "execution_count": null,
      "outputs": [
        {
          "output_type": "execute_result",
          "data": {
            "text/plain": [
              "{'bootstrap': True,\n",
              " 'max_depth': 80,\n",
              " 'max_features': 'auto',\n",
              " 'min_samples_leaf': 1,\n",
              " 'min_samples_split': 2,\n",
              " 'n_estimators': 1366}"
            ]
          },
          "metadata": {},
          "execution_count": 127
        }
      ]
    },
    {
      "cell_type": "markdown",
      "metadata": {
        "id": "xBkScifasXC9"
      },
      "source": [
        "###Evaluate the model"
      ]
    },
    {
      "cell_type": "code",
      "metadata": {
        "id": "PBfsJ8ZjfQ5w"
      },
      "source": [
        "def evaluate(model, test_features, test_labels):\n",
        "    predictions = model.predict(test_features)\n",
        "    errors = abs(predictions - test_labels)\n",
        "    mape = 100 * np.mean(errors / test_labels)\n",
        "    accuracy = 100 - mape\n",
        "    print('Model Performance')\n",
        "    print('Average Error: {:0.4f} degrees.'.format(np.mean(errors)))\n",
        "    print('Accuracy = {:0.2f}%.'.format(accuracy))\n",
        "    \n",
        "    return accuracy"
      ],
      "execution_count": null,
      "outputs": []
    },
    {
      "cell_type": "markdown",
      "metadata": {
        "id": "NZ5uJm8Hs1FK"
      },
      "source": [
        "Base model random forest regression"
      ]
    },
    {
      "cell_type": "code",
      "metadata": {
        "colab": {
          "base_uri": "https://localhost:8080/"
        },
        "id": "QAso6B1Asuh1",
        "outputId": "23422241-d11d-4ce6-b875-2656cb3a7b4c"
      },
      "source": [
        "base_model = RandomForestRegressor(n_estimators = 300, random_state = 0)\n",
        "base_model.fit(X_test, y_test)\n",
        "base_accuracy = evaluate(base_model, X_test, y_test)"
      ],
      "execution_count": null,
      "outputs": [
        {
          "output_type": "stream",
          "name": "stdout",
          "text": [
            "Model Performance\n",
            "Average Error: 0.1636 degrees.\n",
            "Accuracy = 97.19%.\n"
          ]
        }
      ]
    },
    {
      "cell_type": "markdown",
      "metadata": {
        "id": "ynJnaAnqs7CP"
      },
      "source": [
        "random forest with random search cross validation"
      ]
    },
    {
      "cell_type": "code",
      "metadata": {
        "colab": {
          "base_uri": "https://localhost:8080/"
        },
        "id": "Z6GkhLexfkHt",
        "outputId": "0852dccf-c540-482a-f93f-2c452c2e711c"
      },
      "source": [
        "best_random = rf_random.best_estimator_\n",
        "random_accuracy = evaluate(best_random, X_test, y_test)"
      ],
      "execution_count": null,
      "outputs": [
        {
          "output_type": "stream",
          "name": "stdout",
          "text": [
            "Model Performance\n",
            "Average Error: 0.3216 degrees.\n",
            "Accuracy = 94.33%.\n"
          ]
        }
      ]
    },
    {
      "cell_type": "code",
      "metadata": {
        "colab": {
          "base_uri": "https://localhost:8080/"
        },
        "id": "yZulb9-Tfmew",
        "outputId": "e05368a8-c3c7-4759-fba7-9e3a1c55dffc"
      },
      "source": [
        "print('Improvement of {:0.2f}%.'.format( 100 * (random_accuracy - base_accuracy) / base_accuracy))"
      ],
      "execution_count": null,
      "outputs": [
        {
          "output_type": "stream",
          "name": "stdout",
          "text": [
            "Improvement of -2.95%.\n"
          ]
        }
      ]
    },
    {
      "cell_type": "markdown",
      "metadata": {
        "id": "ibjTELoJuhBb"
      },
      "source": [
        "Compare prediction values"
      ]
    },
    {
      "cell_type": "code",
      "metadata": {
        "id": "shhQgEDutqRJ"
      },
      "source": [
        "random_pred = rf_random.predict(X_test)"
      ],
      "execution_count": null,
      "outputs": []
    },
    {
      "cell_type": "code",
      "metadata": {
        "id": "_2G2f54Pt2N-"
      },
      "source": [
        "compare = pd.DataFrame({'Real Values':y_test, 'RF Regression':y_pred, 'Random Search':random_pred})"
      ],
      "execution_count": null,
      "outputs": []
    },
    {
      "cell_type": "code",
      "metadata": {
        "colab": {
          "base_uri": "https://localhost:8080/",
          "height": 424
        },
        "id": "bhrM8aiEuIRN",
        "outputId": "fb626f43-f20d-4ad1-e402-35e45033c67d"
      },
      "source": [
        "compare"
      ],
      "execution_count": null,
      "outputs": [
        {
          "output_type": "execute_result",
          "data": {
            "text/html": [
              "<div>\n",
              "<style scoped>\n",
              "    .dataframe tbody tr th:only-of-type {\n",
              "        vertical-align: middle;\n",
              "    }\n",
              "\n",
              "    .dataframe tbody tr th {\n",
              "        vertical-align: top;\n",
              "    }\n",
              "\n",
              "    .dataframe thead th {\n",
              "        text-align: right;\n",
              "    }\n",
              "</style>\n",
              "<table border=\"1\" class=\"dataframe\">\n",
              "  <thead>\n",
              "    <tr style=\"text-align: right;\">\n",
              "      <th></th>\n",
              "      <th>Real Values</th>\n",
              "      <th>RF Regression</th>\n",
              "      <th>Random Search</th>\n",
              "    </tr>\n",
              "  </thead>\n",
              "  <tbody>\n",
              "    <tr>\n",
              "      <th>1380</th>\n",
              "      <td>5.620401</td>\n",
              "      <td>5.571846</td>\n",
              "      <td>5.564948</td>\n",
              "    </tr>\n",
              "    <tr>\n",
              "      <th>1079</th>\n",
              "      <td>7.208600</td>\n",
              "      <td>7.780204</td>\n",
              "      <td>7.759411</td>\n",
              "    </tr>\n",
              "    <tr>\n",
              "      <th>2334</th>\n",
              "      <td>7.276556</td>\n",
              "      <td>7.223327</td>\n",
              "      <td>7.232877</td>\n",
              "    </tr>\n",
              "    <tr>\n",
              "      <th>227</th>\n",
              "      <td>8.485083</td>\n",
              "      <td>8.215008</td>\n",
              "      <td>8.223516</td>\n",
              "    </tr>\n",
              "    <tr>\n",
              "      <th>2496</th>\n",
              "      <td>5.860786</td>\n",
              "      <td>7.481097</td>\n",
              "      <td>7.495909</td>\n",
              "    </tr>\n",
              "    <tr>\n",
              "      <th>...</th>\n",
              "      <td>...</td>\n",
              "      <td>...</td>\n",
              "      <td>...</td>\n",
              "    </tr>\n",
              "    <tr>\n",
              "      <th>3476</th>\n",
              "      <td>7.926964</td>\n",
              "      <td>7.733231</td>\n",
              "      <td>7.711020</td>\n",
              "    </tr>\n",
              "    <tr>\n",
              "      <th>1503</th>\n",
              "      <td>5.170484</td>\n",
              "      <td>5.525668</td>\n",
              "      <td>5.490636</td>\n",
              "    </tr>\n",
              "    <tr>\n",
              "      <th>2635</th>\n",
              "      <td>5.624018</td>\n",
              "      <td>6.289080</td>\n",
              "      <td>6.284331</td>\n",
              "    </tr>\n",
              "    <tr>\n",
              "      <th>1827</th>\n",
              "      <td>5.564520</td>\n",
              "      <td>5.486148</td>\n",
              "      <td>5.497445</td>\n",
              "    </tr>\n",
              "    <tr>\n",
              "      <th>1414</th>\n",
              "      <td>7.099202</td>\n",
              "      <td>6.754665</td>\n",
              "      <td>6.729400</td>\n",
              "    </tr>\n",
              "  </tbody>\n",
              "</table>\n",
              "<p>380 rows × 3 columns</p>\n",
              "</div>"
            ],
            "text/plain": [
              "      Real Values  RF Regression  Random Search\n",
              "1380     5.620401       5.571846       5.564948\n",
              "1079     7.208600       7.780204       7.759411\n",
              "2334     7.276556       7.223327       7.232877\n",
              "227      8.485083       8.215008       8.223516\n",
              "2496     5.860786       7.481097       7.495909\n",
              "...           ...            ...            ...\n",
              "3476     7.926964       7.733231       7.711020\n",
              "1503     5.170484       5.525668       5.490636\n",
              "2635     5.624018       6.289080       6.284331\n",
              "1827     5.564520       5.486148       5.497445\n",
              "1414     7.099202       6.754665       6.729400\n",
              "\n",
              "[380 rows x 3 columns]"
            ]
          },
          "metadata": {},
          "execution_count": 134
        }
      ]
    }
  ]
}